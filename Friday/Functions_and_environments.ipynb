{
 "cells": [
  {
   "cell_type": "markdown",
   "metadata": {},
   "source": [
    "# Learning python - Day 5\n",
    "\n",
    "## Outline:\n",
    "\n",
    "- Functions\n",
    "- Conda\n",
    "- Virtual Environments\n",
    "- Pip"
   ]
  },
  {
   "cell_type": "markdown",
   "metadata": {},
   "source": [
    "### Functions : \n",
    "- Good for repetitive code\n",
    "- Readability\n",
    "- Modularity\n",
    "    * Reuse function in other codes\n",
    "- Namespace Isolation\n",
    "    * It doesn't polute your environment"
   ]
  },
  {
   "cell_type": "markdown",
   "metadata": {},
   "source": [
    "#### Simple Function :"
   ]
  },
  {
   "cell_type": "code",
   "execution_count": 1,
   "metadata": {},
   "outputs": [
    {
     "name": "stdout",
     "output_type": "stream",
     "text": [
      "Sum of 3 + 19 = 22\n"
     ]
    }
   ],
   "source": [
    "# Can use hinting as well, see this : https://docs.python.org/3/library/typing.html\n",
    "def add(x,y):\n",
    "    \"\"\"Add two numbers \n",
    "\n",
    "    Args :\n",
    "        x : (int, float)\n",
    "        y : (int, float)\n",
    "\n",
    "    Returns :\n",
    "        val : (int, float)\n",
    "\n",
    "    Raises :\n",
    "    \"\"\"\n",
    "    val = x + y\n",
    "    return val\n",
    "\n",
    "a = 3\n",
    "b = 19\n",
    "value = add(a,b)\n",
    "print(\"Sum of {} + {} = {}\".format(a,b,value))"
   ]
  },
  {
   "cell_type": "markdown",
   "metadata": {},
   "source": [
    "#### Exercise 1 : Write a function to multiply two numbers"
   ]
  },
  {
   "cell_type": "code",
   "execution_count": null,
   "metadata": {},
   "outputs": [],
   "source": [
    "## Exercise 1 Code goes here"
   ]
  },
  {
   "cell_type": "markdown",
   "metadata": {},
   "source": [
    "#### Let's keep _all_ of our code in functions"
   ]
  },
  {
   "cell_type": "code",
   "execution_count": 2,
   "metadata": {},
   "outputs": [
    {
     "name": "stdout",
     "output_type": "stream",
     "text": [
      "Sum of 3 + 19 = 22\n"
     ]
    }
   ],
   "source": [
    "# Can use hinting as well, see this : https://docs.python.org/3/library/typing.html\n",
    "def add(x,y):\n",
    "    \"\"\"Add two numbers \n",
    "\n",
    "    Args :\n",
    "        x : (int, float)\n",
    "        y : (int, float)\n",
    "\n",
    "    Returns :\n",
    "        val : (int, float)\n",
    "\n",
    "    Raises :\n",
    "    \"\"\"\n",
    "    val = x + y\n",
    "    return val\n",
    "\n",
    "### Global variables are you enemy\n",
    "def main():\n",
    "    \"\"\"Main driver function\n",
    "\n",
    "    \"\"\"\n",
    "    a = 3\n",
    "    b = 19\n",
    "    value = add(a,b)\n",
    "    print(\"Sum of {} + {} = {}\".format(a,b,value))\n",
    "\n",
    "\n",
    "if __name__ == \"__main__\":\n",
    "    main()"
   ]
  },
  {
   "cell_type": "markdown",
   "metadata": {},
   "source": [
    "#### Now let's put the code in a SEPARATE the code into a NEW file, see myfirstfunc.py"
   ]
  },
  {
   "cell_type": "code",
   "execution_count": 3,
   "metadata": {},
   "outputs": [
    {
     "name": "stdout",
     "output_type": "stream",
     "text": [
      "result = 50\n"
     ]
    }
   ],
   "source": [
    "# make point of __name__ == \"__main__\"\n",
    "import myfirstfunc as mff \n",
    "result = mff.add(42,8)\n",
    "print(\"result = {}\".format(result))"
   ]
  },
  {
   "cell_type": "markdown",
   "metadata": {},
   "source": [
    "#### Exercise 2 : Fix the bug in mybrokenfunc.py so the code below works"
   ]
  },
  {
   "cell_type": "code",
   "execution_count": 4,
   "metadata": {},
   "outputs": [
    {
     "name": "stdout",
     "output_type": "stream",
     "text": [
      "result = 10\n",
      "summation = 17\n"
     ]
    }
   ],
   "source": [
    "## Exercise 2 : Fix the bug in mybrokenfunc.py so the code below works\n",
    "result = 42\n",
    "from mybrokenfunc import * \n",
    "x = 8\n",
    "y = 9\n",
    "summation = add(x,y)\n",
    "print(\"result = {}\".format(result))\n",
    "print(\"summation = {}\".format(summation))\n",
    "# Why is result == 10? shouldn't it be 42?\n"
   ]
  },
  {
   "cell_type": "markdown",
   "metadata": {},
   "source": [
    "### Conda Environment :\n",
    "- Gives you everything you'd ever want, \n",
    "    * incl. external libraries, kitchen sink, etc\n",
    "- Great for cheap and free environments like HPC\n",
    "    * Installs easily are GB in size\n",
    "- Make a conda environment for each project\n",
    "    * Prevents dependency conflicts\n",
    "- Self contained\n"
   ]
  },
  {
   "cell_type": "markdown",
   "metadata": {},
   "source": [
    "#### Let's create our first conda env"
   ]
  },
  {
   "cell_type": "code",
   "execution_count": null,
   "metadata": {
    "vscode": {
     "languageId": "shellscript"
    }
   },
   "outputs": [],
   "source": [
    "### Let's create our first conda environment\n",
    "### Copy / paste the code, line-by-line, into the \"Terminal\" below\n",
    "ml load Miniconda3/23.10.0\n",
    "conda create -n mytestenv           # enter [y]es when prompted\n",
    "conda activate mytestenv            # Activate\n",
    "conda install pip                   # Necessary to use pip WITHIN conda env : https://stackoverflow.com/a/43729857/4021436\n",
    "which python                        # Note your terminal finds the conda python, but the jupyter notebook is still Python 3.6.8 \n",
    "conda install numpy ipykernel  # Can use pip as well, avoid specifying specific version\n",
    "pip install scipy\n"
   ]
  },
  {
   "cell_type": "markdown",
   "metadata": {},
   "source": [
    "#### Now let's switch to the new conda environment for the notebook\n",
    "- Click on top right Python 3.6.8 -> Select Another Kernel -> Python Environments -> mytestenv"
   ]
  },
  {
   "cell_type": "markdown",
   "metadata": {},
   "source": [
    "#### Now that's activated, let's check to see that it is being used"
   ]
  },
  {
   "cell_type": "code",
   "execution_count": 1,
   "metadata": {},
   "outputs": [
    {
     "name": "stdout",
     "output_type": "stream",
     "text": [
      "/usr/lib64/python3.6/site-packages/numpy/__init__.py\n",
      "/usr/lib64/python3.6/site-packages/scipy/__init__.py\n"
     ]
    }
   ],
   "source": [
    "import numpy as np\n",
    "print(np.__file__)\n",
    "import scipy \n",
    "print(scipy.__file__)"
   ]
  },
  {
   "cell_type": "markdown",
   "metadata": {},
   "source": [
    "#### Deactivate conda env in Terminal "
   ]
  },
  {
   "cell_type": "code",
   "execution_count": null,
   "metadata": {},
   "outputs": [],
   "source": [
    "## Deactivate via\n",
    "conda deactivate"
   ]
  },
  {
   "cell_type": "markdown",
   "metadata": {},
   "source": [
    "#### Exercise 3 : Switch back to your, Python 3.6.8 kernel.  Import ipykernel, where is it installed?  Is this good or bad?"
   ]
  },
  {
   "cell_type": "markdown",
   "metadata": {},
   "source": [
    "### Virtual Environments :\n",
    "- Gives you much less than conda\n",
    "    * Relies on system libraries for external libs\n",
    "- Great for your laptop with 256GB or 512GB of storage\n",
    "    * Smaller installs than conda\n",
    "- Make a virtual environment for each project\n",
    "    * Prevents dependency conflicts"
   ]
  },
  {
   "cell_type": "markdown",
   "metadata": {},
   "source": [
    "#### From the horse's mouth : \n",
    "- \"While it's possible to open a virtual environment folder as a workspace, doing so is not recommended and might cause issues with using the Python extension\"\n",
    "- https://code.visualstudio.com/docs/python/environments\n",
    "- Use virtual environments outsided of VS Code and Jupyter notebooks."
   ]
  }
 ],
 "metadata": {
  "kernelspec": {
   "display_name": "Python 3",
   "language": "python",
   "name": "python3"
  },
  "language_info": {
   "codemirror_mode": {
    "name": "ipython",
    "version": 3
   },
   "file_extension": ".py",
   "mimetype": "text/x-python",
   "name": "python",
   "nbconvert_exporter": "python",
   "pygments_lexer": "ipython3",
   "version": "3.6.8"
  }
 },
 "nbformat": 4,
 "nbformat_minor": 2
}
