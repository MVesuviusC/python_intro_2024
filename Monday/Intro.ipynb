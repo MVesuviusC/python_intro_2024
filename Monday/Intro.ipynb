{
 "cells": [
  {
   "cell_type": "markdown",
   "metadata": {},
   "source": [
    "# Learning python - Day 1\n",
    "\n",
    "## Outline:\n",
    "\n",
    "- VScode setup confirmation\n",
    "- Connecting to the Franklin cluster\n",
    "- Get class materials\n",
    "- Variables\n",
    "- Data types\n",
    "- Activity"
   ]
  },
  {
   "cell_type": "markdown",
   "metadata": {},
   "source": [
    "## A cheat sheet\n",
    "\n",
    "https://www.codecademy.com/learn/learn-python-3/modules/learn-python3-hello-world/cheatsheet\n",
    "\n",
    "## Getting class materials\n",
    "\n",
    "The materials for this workshop are up on GitHub. We're going to get them using a command line tool called `git`.\n",
    "\n",
    "https://github.com/MVesuviusC/python_intro_2024\n",
    "\n",
    "Open a terminal in VSCode. This creates a terminal you can type linux commands into.\n",
    "\n",
    "Type `git clone https://github.com/MVesuviusC/python_intro_2024` into the terminal. This will download the materials for the class."
   ]
  },
  {
   "cell_type": "markdown",
   "metadata": {},
   "source": [
    "## Open the materials through VSCode\n",
    "\n",
    "To make it easy, we're going to open the materials through VSCode. This will let us see the files and edit them easily.\n",
    "\n",
    "In the top left of VSCode, click `File` -> `Open Folder`. Then select the `python_intro_2024` folder.\n",
    "\n",
    "You should see the files in the folder on the left side of VSCode like in my screen.\n"
   ]
  },
  {
   "cell_type": "markdown",
   "metadata": {},
   "source": [
    "## How do we run python code?\n",
    "\n",
    "Three main ways to run python code:\n",
    "\n",
    "- In a python interpreter by typing commands directly after starting python with the `python` command on the command line\n",
    "- In a python script by typing commands into a text file and then running the script with the `python` command on the command line\n",
    "- In a Jupyter notebook by typing commands into a cell and then running the cell\n",
    "\n",
    "\n",
    "### Lets try each of these.\n",
    "\n",
    "First, open a terminal window in VSCode.\n",
    "\n",
    "\n",
    "#### Python interpreter\n",
    "\n",
    "Type `python` into the terminal and hit enter. You should see something like this:\n",
    "\n",
    "`>>> `\n",
    "\n",
    "This interface lets you run python code directly. Try typing `print(\"Hello world!\")` and hitting enter. You should see the text `Hello world!` printed to the screen.\n",
    "\n",
    "This is usually used to try out python code interactively.\n",
    "\n",
    "Type quit() and hit enter to exit the python interpreter.\n",
    "\n",
    "#### Python script\n",
    "\n",
    "Now lets try running a python script. At the top of VSCode, double click in the open space next to the welcome tab.\n",
    "\n",
    "Type \"print(\"Hello world!\")\" into the file and save it as `hello_world.py`.\n",
    "\n",
    "Once it's saved, use your terminal below to run the script with `python hello_world.py`.\n",
    "*Make sure your capitalization and spelling are exactly the same as the file name.*\n",
    "\n",
    "It will execute any code inside your script. In this case it just prints some stuff.\n",
    "\n",
    "#### Jupyter notebook\n",
    "\n",
    "Now lets try a Jupyter notebook. In the top left of VSCode, click `File` -> `New File`. Then pick Jupyter Notebook to make a new notebook.\n",
    "\n",
    "In the top chunk, type `print(\"Hello world!\")` and hit the play button on the left side of the chunk.\n",
    "\n",
    "You'll likely see a prompt asking for a \"python kernal\". Just pick python 3.6.8. This is the version of python we're using.\n",
    "<br>"
   ]
  },
  {
   "cell_type": "markdown",
   "metadata": {},
   "source": [
    "## What is a variable?\n",
    "\n",
    "A variable is a name that refers to a value. The value can be a number, a string, a list, or any other type of data.\n",
    "The variable can be used to refer to the value later in the program.\n",
    "\n",
    "## Variable assignment\n",
    "\n",
    "In python, we assign a value to a variable using the `=` operator. The variable name goes on the left, and the value goes on the right."
   ]
  },
  {
   "cell_type": "code",
   "execution_count": 1,
   "metadata": {},
   "outputs": [
    {
     "data": {
      "text/plain": [
       "'Matt'"
      ]
     },
     "execution_count": 1,
     "metadata": {},
     "output_type": "execute_result"
    }
   ],
   "source": [
    "my_name = 'Matt'\n",
    "\n",
    "my_name"
   ]
  },
  {
   "cell_type": "markdown",
   "metadata": {},
   "source": [
    "## Basic Data Types in Python\n",
    "\n",
    "Not all variables are the same. The type of a variable is very important in python.\n",
    "\n",
    "### - Key point -\n",
    "One important distiction - if we compare a variable to a container filled with water:\n",
    "    - The \"variable type\" refers to the type of container\n",
    "    - The \"data type\" refers to the type of stuff in the container\n",
    "\n",
    "A bucket can hold water, or it can hold sand. The bucket is the variable type, and the water or sand is the data type.\n",
    "\n",
    "Variables come in lots of different forms or classes\n",
    "\n",
    "The data inside a variable has a type\n",
    "\n",
    "Python has several basic types of variables. Here are the most common ones:\n",
    "\n",
    "### Numeric Types\n",
    "\n",
    "#### Integer\n",
    "An integer is a whole number, positive or negative. When declaring an integer you don't put it in quotes. For example:"
   ]
  },
  {
   "cell_type": "code",
   "execution_count": null,
   "metadata": {},
   "outputs": [],
   "source": [
    "x = 10"
   ]
  },
  {
   "cell_type": "markdown",
   "metadata": {},
   "source": [
    "### Float\n",
    "A float is a number that has a decimal point. You also don't put it in quotes. For example:"
   ]
  },
  {
   "cell_type": "code",
   "execution_count": 5,
   "metadata": {},
   "outputs": [],
   "source": [
    "y = 20.5"
   ]
  },
  {
   "cell_type": "markdown",
   "metadata": {},
   "source": [
    "### Float math vs int math\n",
    "\n",
    "With floats, you can do math the way you're used to. The result will be a float."
   ]
  },
  {
   "cell_type": "code",
   "execution_count": 1,
   "metadata": {},
   "outputs": [
    {
     "name": "stdout",
     "output_type": "stream",
     "text": [
      "13.3333\n",
      "3.000030000300003\n"
     ]
    }
   ],
   "source": [
    "first_num = 10.0\n",
    "second_num = 3.3333\n",
    "\n",
    "print(first_num + second_num)\n",
    "print(first_num / second_num)"
   ]
  },
  {
   "cell_type": "markdown",
   "metadata": {},
   "source": [
    "With integers, you're doing math with whole numbers. The result will be an integer. The result will always be rounded down."
   ]
  },
  {
   "cell_type": "code",
   "execution_count": 4,
   "metadata": {},
   "outputs": [
    {
     "name": "stdout",
     "output_type": "stream",
     "text": [
      "3\n",
      "3.5\n"
     ]
    }
   ],
   "source": [
    "first_int = 7\n",
    "second_int = 2\n",
    "\n",
    "print(first_int // second_int) # integer division\n",
    "print(first_int / second_int) # this one gets converted to float"
   ]
  },
  {
   "cell_type": "markdown",
   "metadata": {},
   "source": [
    "### Boolean\n",
    "\n",
    "A boolean is a variable that can only be True or False. You don't put it in quotes. For example:"
   ]
  },
  {
   "cell_type": "code",
   "execution_count": 7,
   "metadata": {},
   "outputs": [
    {
     "name": "stdout",
     "output_type": "stream",
     "text": [
      "True\n",
      "False\n"
     ]
    }
   ],
   "source": [
    "matt_is_awesome = True\n",
    "print(matt_is_awesome)\n",
    "\n",
    "sardines_are_awesome = False\n",
    "print(sardines_are_awesome)"
   ]
  },
  {
   "cell_type": "markdown",
   "metadata": {},
   "source": [
    "### String\n",
    "A string is a sequence of characters. For example:"
   ]
  },
  {
   "cell_type": "code",
   "execution_count": 8,
   "metadata": {},
   "outputs": [
    {
     "name": "stdout",
     "output_type": "stream",
     "text": [
      "Hello, World!\n"
     ]
    }
   ],
   "source": [
    "my_words = \"Hello, World!\"\n",
    "print(my_words)"
   ]
  },
  {
   "cell_type": "markdown",
   "metadata": {},
   "source": [
    "## Basic variable types\n",
    "\n",
    "### List\n",
    "A list is a collection of items. You declare a list with square brackets.\n",
    "\n",
    "You can refer to an item in a list by its index. **The index starts at 0.**\n",
    "\n",
    "Three important things to note about lists:\n",
    "- Lists are ordered. The order of the items in the list is important.\n",
    "- Lists can contain any type of data, including other lists.\n",
    "- Lists can be altered after you create it.\n"
   ]
  },
  {
   "cell_type": "code",
   "execution_count": 24,
   "metadata": {},
   "outputs": [
    {
     "name": "stdout",
     "output_type": "stream",
     "text": [
      "['bob', 1, 2.0, True]\n",
      "['bob', 1, 2.0, True, [1, 2, 3, 4, 5]]\n",
      "['bob', 1, 2.0, True, [1, 2, 3, 4, 5], 'matt']\n",
      "1\n"
     ]
    }
   ],
   "source": [
    "list_of_nums = [1, 2, 3, 4, 5]\n",
    "list_of_stuff = ['bob', 1, 2.0, True]\n",
    "print(list_of_stuff)\n",
    "\n",
    "list_of_stuff.append(list_of_nums)\n",
    "print(list_of_stuff)\n",
    "\n",
    "list_of_stuff.append('matt')\n",
    "print(list_of_stuff)\n",
    "\n",
    "print(list_of_stuff[1])"
   ]
  },
  {
   "cell_type": "markdown",
   "metadata": {},
   "source": [
    "### Tuple\n",
    "A tuple is a similar to a list in most regards, exept that it can't be changed.\n",
    "You declare a tuple with parentheses.\n",
    "\n",
    "Generally, unless you know you'll need to change it later, you should use a tuple instead of a list.\n"
   ]
  },
  {
   "cell_type": "code",
   "execution_count": 16,
   "metadata": {},
   "outputs": [
    {
     "ename": "TypeError",
     "evalue": "'tuple' object does not support item assignment",
     "output_type": "error",
     "traceback": [
      "\u001b[0;31m---------------------------------------------------------------------------\u001b[0m",
      "\u001b[0;31mTypeError\u001b[0m                                 Traceback (most recent call last)",
      "\u001b[0;32m<ipython-input-16-10552913edff>\u001b[0m in \u001b[0;36m<module>\u001b[0;34m\u001b[0m\n\u001b[1;32m      1\u001b[0m \u001b[0mimportant_numbers\u001b[0m \u001b[0;34m=\u001b[0m \u001b[0;34m(\u001b[0m\u001b[0;36m1\u001b[0m\u001b[0;34m,\u001b[0m \u001b[0;36m2\u001b[0m\u001b[0;34m,\u001b[0m \u001b[0;36m3\u001b[0m\u001b[0;34m,\u001b[0m \u001b[0;36m4\u001b[0m\u001b[0;34m,\u001b[0m \u001b[0;36m5\u001b[0m\u001b[0;34m)\u001b[0m\u001b[0;34m\u001b[0m\u001b[0;34m\u001b[0m\u001b[0m\n\u001b[0;32m----> 2\u001b[0;31m \u001b[0mimportant_numbers\u001b[0m\u001b[0;34m[\u001b[0m\u001b[0;36m0\u001b[0m\u001b[0;34m]\u001b[0m \u001b[0;34m=\u001b[0m \u001b[0;36m10\u001b[0m\u001b[0;34m\u001b[0m\u001b[0;34m\u001b[0m\u001b[0m\n\u001b[0m",
      "\u001b[0;31mTypeError\u001b[0m: 'tuple' object does not support item assignment"
     ]
    }
   ],
   "source": [
    "important_numbers = (1, 2, 3, 4, 5)\n",
    "important_numbers[0] = 10 # This will fail"
   ]
  },
  {
   "cell_type": "code",
   "execution_count": 20,
   "metadata": {},
   "outputs": [
    {
     "name": "stdout",
     "output_type": "stream",
     "text": [
      "(1, 2, 3, 4, 5)\n",
      "1\n"
     ]
    }
   ],
   "source": [
    "print(important_numbers)\n",
    "print(important_numbers[0])"
   ]
  },
  {
   "cell_type": "markdown",
   "metadata": {},
   "source": [
    "### Dictionary\n",
    "A dictionary is a collection of key-value pairs.\n",
    "\n",
    "You provide both a name, and a value in the format `key: value`.\n",
    "\n",
    "You declare a dictionary with curly braces.\n",
    "\n",
    "You can retrieve a value from a dictionary by using the key, which is much faster than looping through a list.\n",
    "\n",
    "These are useful for storing data you want to reference later"
   ]
  },
  {
   "cell_type": "code",
   "execution_count": 1,
   "metadata": {},
   "outputs": [
    {
     "name": "stdout",
     "output_type": "stream",
     "text": [
      "D\n",
      "A+\n",
      "['John', 'Ali', 'Matt', 'Dave Grohl']\n"
     ]
    }
   ],
   "source": [
    "student_grades = {'John': 'A', 'Ali': 'B+', 'Matt': 'D'}\n",
    "\n",
    "print(student_grades['Matt'])\n",
    "\n",
    "student_grades['Dave Grohl'] = 'A+'\n",
    "\n",
    "print(student_grades.get('Dave Grohl'))\n",
    "\n",
    "dict_keys = student_grades.keys()\n",
    "print(list(dict_keys))"
   ]
  },
  {
   "cell_type": "markdown",
   "metadata": {},
   "source": [
    "### Set\n",
    "A set is a collection of unique items. Even if you add the same item twice, it will only be stored once.\n",
    "\n",
    "You declare a set with curly braces.\n",
    "\n"
   ]
  },
  {
   "cell_type": "code",
   "execution_count": 2,
   "metadata": {},
   "outputs": [
    {
     "name": "stdout",
     "output_type": "stream",
     "text": [
      "{'NM', 'WA', 'CA', 'UT', 'MT', 'NV', 'AZ', 'WY', 'ID', 'OR', 'CO'}\n",
      "{'Matt', 'John', 'Ali'}\n"
     ]
    }
   ],
   "source": [
    "set_of_states = {'CA', 'OR', 'WA', 'NV', 'AZ', 'UT', 'ID', 'MT', 'WY', 'CO', 'NM'}\n",
    "\n",
    "print(set_of_states)\n",
    "\n",
    "set_of_first_names = {'Matt', 'John', 'Ali', 'Matt'}\n",
    "print(set_of_first_names)"
   ]
  },
  {
   "cell_type": "markdown",
   "metadata": {},
   "source": [
    "# Activities\n",
    "\n",
    "Lets try running python in a couple different ways.\n",
    "\n",
    "1. Make a new python script called `variables.py`. Declare a variable for each of the basic data types we talked about. Print out the value of each variable. Run the script by calling python on the command line.\n",
    "\n",
    "2. Open the python intepreter on the command line in a terminal. Declare an integer and a float variable with values of 2 and 100, respectively. What do you get when you divite the float by the integer? How are you sure you made 100 a float?\n",
    "\n",
    "3. Create a new Jupyter notebook. Lets use this for the rest of the activities.\n",
    "\n",
    "4. Make a header section in markdown format with your name and the date. \n",
    "\n",
    "5. Make a new section and declare a string with the day of the week. Print out the string.\n",
    "\n",
    "6. Make a new code section and declare a list with the names of your favorite bands. Print out the list.\n",
    "\n",
    "7. Get the first item in the list and print it out.\n",
    "\n",
    "8. Make a tuple with the names of your favorite movies. Print out the tuple.\n",
    "\n",
    "9. Try to change the first item in the tuple. What happens?\n",
    "\n",
    "10. Make a dictionary with your favorite foods and their country of origin.\n",
    "\n",
    "11. Print out the value for the one you'd like to have for dinner\n",
    "\n",
    "12. Add a new food to the dictionary.\n",
    "\n",
    "\n",
    "# Extra credit\n",
    "\n",
    "1. Take the list of bands from above. Remove one of the bands from the list. Print out the list to make sure it's gone.\n",
    "\n",
    "2. Take the list of bands from above. Append a new band to the list. Print out the list to make sure it's there.\n",
    "\n",
    "3. Take the list of bands from above and print out the first and third items in the list.\n",
    "\n",
    "4. Make a list of all the lists you've made so far. Print out the list.\n",
    "\n",
    "5. Use the dictionary you made above and get a list of all the keys. Print out the list.\n",
    "\n",
    "6. Remove one of the key:value pairs from the dictionary. Print out the dictionary to make sure it's gone.\n",
    "\n",
    "7. Make dictionary where each value is one of the lists you've made so far. Print out the second element of your band list from inside the dictionary."
   ]
  }
 ],
 "metadata": {
  "kernelspec": {
   "display_name": "Python 3",
   "language": "python",
   "name": "python3"
  },
  "language_info": {
   "codemirror_mode": {
    "name": "ipython",
    "version": 3
   },
   "file_extension": ".py",
   "mimetype": "text/x-python",
   "name": "python",
   "nbconvert_exporter": "python",
   "pygments_lexer": "ipython3",
   "version": "3.6.8"
  }
 },
 "nbformat": 4,
 "nbformat_minor": 2
}
