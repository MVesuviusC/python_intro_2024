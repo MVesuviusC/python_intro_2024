{
 "cells": [
  {
   "cell_type": "markdown",
   "metadata": {},
   "source": [
    "# Activities\n",
    "\n",
    "Lets try running python in a couple different ways.\n",
    "\n",
    "1. Make a new python script called `variables.py`. Declare a variable for each of the basic data types we talked about. Print out the value of each variable. Run the script by calling python on the command line.\n",
    "\n",
    "    - Run `python Monday/activity_1_answer.py` on the terminal.\n",
    "\n",
    "2. Open the python intepreter on the command line in a terminal. Declare an integer and a float variable with values of 2 and 100, respectively. What do you get when you divite the float by the integer? How are you sure you made 100 a float?\n",
    "\n",
    "    - Run `python` on the terminal to open the python interpreter.\n",
    "    - x = 2\n",
    "    - y = 100.0\n",
    "    - y / x\n",
    "    You get 50.0, which is a float\n",
    "    You can be certain that you made 100 a float because you added a decimal point to the number.\n",
    "\n",
    "3. Create a new Jupyter notebook. Lets use this for the rest of the activities.\n",
    "\n",
    "4. Make a header section in markdown format with your name and the date. \n",
    "\n",
    "5. Make a new section and declare a string with the day of the week. Print out the string.\n",
    "\n",
    "6. Make a new code section and declare a list with the names of your favorite bands. Print out the list.\n",
    "\n",
    "7. Get the first item in the list and print it out.\n",
    "\n",
    "8. Make a tuple with the names of your favorite movies. Print out the tuple.\n",
    "\n",
    "9. Try to change the first item in the tuple. What happens?\n",
    "\n",
    "10. Make a dictionary with your favorite foods and their country of origin.\n",
    "\n",
    "11. Print out the value for the one you'd like to have for dinner\n",
    "\n",
    "12. Add a new food to the dictionary.\n",
    "\n",
    "\n",
    "# Extra credit\n",
    "\n",
    "1. Take the list of bands from above. Remove one of the bands from the list. Print out the list to make sure it's gone.\n",
    "\n",
    "2. Take the list of bands from above. Append a new band to the list. Print out the list to make sure it's there.\n",
    "\n",
    "3. Take the list of bands from above and print out the first and third items in the list.\n",
    "\n",
    "4. Make a list of all the lists you've made so far. Print out the list.\n",
    "\n",
    "5. Use the dictionary you made above and get a list of all the keys. Print out the list.\n",
    "\n",
    "6. Remove one of the key:value pairs from the dictionary. Print out the dictionary to make sure it's gone.\n",
    "\n",
    "7. Make dictionary where each value is one of the lists you've made so far. Print out the second element of your band list from inside the dictionary."
   ]
  }
 ],
 "metadata": {
  "kernelspec": {
   "display_name": "Python 3",
   "language": "python",
   "name": "python3"
  },
  "language_info": {
   "name": "python",
   "version": "3.6.8"
  }
 },
 "nbformat": 4,
 "nbformat_minor": 2
}
