{
 "cells": [
  {
   "cell_type": "markdown",
   "metadata": {},
   "source": [
    "# Functions\n",
    "\n",
    "Functions are an encapsulated set of instructions that either performs an operation or returns a value.\n",
    "\n",
    "Use the function ` print ` to display the result of the expression, or the contents of a variable inside the parenthesis.\n",
    "\n",
    "To call a function, add parentheses to the end of the function name and then add the arguments/parameters for the function inside the paranthesis seperated by `,`.\n",
    "\n",
    "- argument names w/o `=` are just normal arguments, values are matched to arguments based on order\n",
    "- `*args` any number of unnamed arguments\n",
    "- \"keyword arguments\" w/ `=` are passed to the function with `{arg_name}= {value}` keyword arguments may be passed in any order. Any keywords that are skipped will use their default value.\n",
    "- `**kwargs` means the function will accept any number of additional keyword arguments. Usually allows a top level function to pass keyword arguments to a lower function."
   ]
  },
  {
   "cell_type": "code",
   "execution_count": 1,
   "metadata": {},
   "outputs": [
    {
     "name": "stdout",
     "output_type": "stream",
     "text": [
      "\u001b[1;31mSignature:\u001b[0m \u001b[0mprint\u001b[0m\u001b[1;33m(\u001b[0m\u001b[1;33m*\u001b[0m\u001b[0margs\u001b[0m\u001b[1;33m,\u001b[0m \u001b[0msep\u001b[0m\u001b[1;33m=\u001b[0m\u001b[1;34m' '\u001b[0m\u001b[1;33m,\u001b[0m \u001b[0mend\u001b[0m\u001b[1;33m=\u001b[0m\u001b[1;34m'\\n'\u001b[0m\u001b[1;33m,\u001b[0m \u001b[0mfile\u001b[0m\u001b[1;33m=\u001b[0m\u001b[1;32mNone\u001b[0m\u001b[1;33m,\u001b[0m \u001b[0mflush\u001b[0m\u001b[1;33m=\u001b[0m\u001b[1;32mFalse\u001b[0m\u001b[1;33m)\u001b[0m\u001b[1;33m\u001b[0m\u001b[1;33m\u001b[0m\u001b[0m\n",
      "\u001b[1;31mDocstring:\u001b[0m\n",
      "Prints the values to a stream, or to sys.stdout by default.\n",
      "\n",
      "sep\n",
      "  string inserted between values, default a space.\n",
      "end\n",
      "  string appended after the last value, default a newline.\n",
      "file\n",
      "  a file-like object (stream); defaults to the current sys.stdout.\n",
      "flush\n",
      "  whether to forcibly flush the stream.\n",
      "\u001b[1;31mType:\u001b[0m      builtin_function_or_method"
     ]
    }
   ],
   "source": [
    "?print"
   ]
  },
  {
   "cell_type": "code",
   "execution_count": 2,
   "metadata": {},
   "outputs": [
    {
     "name": "stdout",
     "output_type": "stream",
     "text": [
      "Hello World!\n"
     ]
    }
   ],
   "source": [
    "message = \"Hello World!\"\n",
    "print(message)"
   ]
  },
  {
   "cell_type": "code",
   "execution_count": 3,
   "metadata": {},
   "outputs": [],
   "source": [
    "# This is a comment. The computer wont try to interpret anything after the # sign on this line\n",
    "my_bool = False\n",
    "my_integer = 4\n",
    "my_float = 75.3\n",
    "my_string = \"variables are snake_case\""
   ]
  },
  {
   "cell_type": "code",
   "execution_count": 4,
   "metadata": {},
   "outputs": [
    {
     "name": "stdout",
     "output_type": "stream",
     "text": [
      "\u001b[1;31mInit signature:\u001b[0m \u001b[0mtype\u001b[0m\u001b[1;33m(\u001b[0m\u001b[0mself\u001b[0m\u001b[1;33m,\u001b[0m \u001b[1;33m/\u001b[0m\u001b[1;33m,\u001b[0m \u001b[1;33m*\u001b[0m\u001b[0margs\u001b[0m\u001b[1;33m,\u001b[0m \u001b[1;33m**\u001b[0m\u001b[0mkwargs\u001b[0m\u001b[1;33m)\u001b[0m\u001b[1;33m\u001b[0m\u001b[1;33m\u001b[0m\u001b[0m\n",
      "\u001b[1;31mDocstring:\u001b[0m     \n",
      "type(object) -> the object's type\n",
      "type(name, bases, dict, **kwds) -> a new type\n",
      "\u001b[1;31mType:\u001b[0m           type\n",
      "\u001b[1;31mSubclasses:\u001b[0m     ABCMeta, EnumType, _AnyMeta, NamedTupleMeta, _TypedDictMeta, _DeprecatedType, _ABC, MetaHasDescriptors, PyCStructType, UnionType, ..."
     ]
    }
   ],
   "source": [
    "?type"
   ]
  },
  {
   "cell_type": "code",
   "execution_count": 5,
   "metadata": {},
   "outputs": [],
   "source": [
    "out = type(my_integer)"
   ]
  },
  {
   "cell_type": "code",
   "execution_count": 6,
   "metadata": {},
   "outputs": [
    {
     "name": "stdout",
     "output_type": "stream",
     "text": [
      "<class 'int'>\n"
     ]
    }
   ],
   "source": [
    "print(out)"
   ]
  },
  {
   "cell_type": "code",
   "execution_count": 7,
   "metadata": {},
   "outputs": [
    {
     "name": "stdout",
     "output_type": "stream",
     "text": [
      "<class 'type'>\n"
     ]
    }
   ],
   "source": [
    "print(type(out))"
   ]
  },
  {
   "cell_type": "code",
   "execution_count": 8,
   "metadata": {},
   "outputs": [
    {
     "name": "stdout",
     "output_type": "stream",
     "text": [
      "<class 'type'>\n"
     ]
    }
   ],
   "source": [
    "print(type(type(my_integer)))"
   ]
  },
  {
   "cell_type": "code",
   "execution_count": 9,
   "metadata": {},
   "outputs": [
    {
     "name": "stdout",
     "output_type": "stream",
     "text": [
      "<class 'builtin_function_or_method'>\n"
     ]
    }
   ],
   "source": [
    "print(type(print))"
   ]
  },
  {
   "cell_type": "code",
   "execution_count": 10,
   "metadata": {},
   "outputs": [
    {
     "name": "stdout",
     "output_type": "stream",
     "text": [
      "<class 'int'> <class 'float'> <class 'str'> <class 'bool'>\n"
     ]
    }
   ],
   "source": [
    "print(type(my_integer), type(my_float), type(my_string), type(True))"
   ]
  },
  {
   "cell_type": "code",
   "execution_count": 11,
   "metadata": {},
   "outputs": [
    {
     "name": "stdout",
     "output_type": "stream",
     "text": [
      "4 75.3 variables are snake_case False\n"
     ]
    }
   ],
   "source": [
    "print(my_integer, my_float, my_string, my_bool)"
   ]
  },
  {
   "cell_type": "markdown",
   "metadata": {},
   "source": [
    "# String Formating\n",
    "- use commas to seperate values\n",
    "- use `f\"{value}\"` <- Prefered way\n",
    "- use `\"{0}\".format(0th_value)` method <- the old way"
   ]
  },
  {
   "cell_type": "code",
   "execution_count": 12,
   "metadata": {},
   "outputs": [
    {
     "name": "stdout",
     "output_type": "stream",
     "text": [
      "variables are snake_case 75.3% of the time, 4% of the time\n"
     ]
    }
   ],
   "source": [
    "print(f\"{my_string} {my_float}% of the time, {my_integer}% of the time\")"
   ]
  },
  {
   "cell_type": "code",
   "execution_count": 13,
   "metadata": {},
   "outputs": [
    {
     "name": "stdout",
     "output_type": "stream",
     "text": [
      "variables are snake_case 75.3% of the time, 4% of the time\n"
     ]
    }
   ],
   "source": [
    "print(\"{0} {1}% of the time, {2}% of the time\".format(my_string, my_float, my_integer))"
   ]
  },
  {
   "cell_type": "markdown",
   "metadata": {},
   "source": [
    "# Arithmatic Operators #\n",
    "\n",
    "- ` + ` addition for numbers, concatenation for strings\n",
    "- ` += ` add the right hand side to the value already stored in the left hand side\n",
    "- ` - ` subtraction\n",
    "- ` * ` multiplication, repeating for strings\n",
    "- ` @ ` reserved for matrix multiplication -- doesnt work on built in types\n",
    "- ` / ` division -- will always return a float\n",
    "- ` // ` floor division -- will return an integer if only integers are used, rounded down\n",
    "- ` % ` modulo -- returns the integer remainder of division between integers\n",
    "- ` ** ` exponetiation\n",
    "\n",
    "\n",
    "If either member of an expression is a float the other member will be converted to a float before the operation."
   ]
  },
  {
   "cell_type": "code",
   "execution_count": 14,
   "metadata": {},
   "outputs": [
    {
     "name": "stdout",
     "output_type": "stream",
     "text": [
      "4\n",
      "<class 'float'>\n",
      "4.0\n"
     ]
    }
   ],
   "source": [
    "print(2 + 2)\n",
    "print(type(2 + 2.0))\n",
    "print(2 + 2.0)"
   ]
  },
  {
   "cell_type": "code",
   "execution_count": 15,
   "metadata": {},
   "outputs": [
    {
     "name": "stdout",
     "output_type": "stream",
     "text": [
      "99.9999\n",
      "99.99995999999999\n",
      "99.99996\n"
     ]
    }
   ],
   "source": [
    "print(33.3333 + 66.6666)\n",
    "print(33.3333 + 66.66666)\n",
    "print(99.99996)"
   ]
  },
  {
   "cell_type": "code",
   "execution_count": 16,
   "metadata": {},
   "outputs": [
    {
     "name": "stdout",
     "output_type": "stream",
     "text": [
      "this isa string\n"
     ]
    }
   ],
   "source": [
    "print(\"this is\" + 'a string')"
   ]
  },
  {
   "cell_type": "code",
   "execution_count": 17,
   "metadata": {},
   "outputs": [
    {
     "name": "stdout",
     "output_type": "stream",
     "text": [
      "3\n",
      "2\n"
     ]
    }
   ],
   "source": [
    "a = 1\n",
    "\n",
    "#these are the same thing\n",
    "a = a + 1\n",
    "a += 1\n",
    "print(a)\n",
    "\n",
    "a -= 1\n",
    "print(a)"
   ]
  },
  {
   "cell_type": "code",
   "execution_count": 18,
   "metadata": {},
   "outputs": [
    {
     "ename": "TypeError",
     "evalue": "unsupported operand type(s) for +: 'float' and 'str'",
     "output_type": "error",
     "traceback": [
      "\u001b[1;31m---------------------------------------------------------------------------\u001b[0m",
      "\u001b[1;31mTypeError\u001b[0m                                 Traceback (most recent call last)",
      "Cell \u001b[1;32mIn[18], line 1\u001b[0m\n\u001b[1;32m----> 1\u001b[0m \u001b[38;5;28mprint\u001b[39m(\u001b[43mmy_integer\u001b[49m\u001b[43m \u001b[49m\u001b[38;5;241;43m+\u001b[39;49m\u001b[43m \u001b[49m\u001b[43mmy_float\u001b[49m\u001b[43m \u001b[49m\u001b[38;5;241;43m+\u001b[39;49m\u001b[43m \u001b[49m\u001b[43mmy_string\u001b[49m)\n",
      "\u001b[1;31mTypeError\u001b[0m: unsupported operand type(s) for +: 'float' and 'str'"
     ]
    }
   ],
   "source": [
    "print(my_integer + my_float + my_string)"
   ]
  },
  {
   "cell_type": "code",
   "execution_count": 19,
   "metadata": {},
   "outputs": [
    {
     "name": "stdout",
     "output_type": "stream",
     "text": [
      "79.3\n"
     ]
    }
   ],
   "source": [
    "print(my_integer + my_float)"
   ]
  },
  {
   "cell_type": "code",
   "execution_count": 20,
   "metadata": {},
   "outputs": [
    {
     "ename": "TypeError",
     "evalue": "can only concatenate str (not \"int\") to str",
     "output_type": "error",
     "traceback": [
      "\u001b[1;31m---------------------------------------------------------------------------\u001b[0m",
      "\u001b[1;31mTypeError\u001b[0m                                 Traceback (most recent call last)",
      "Cell \u001b[1;32mIn[20], line 1\u001b[0m\n\u001b[1;32m----> 1\u001b[0m \u001b[38;5;28mprint\u001b[39m(\u001b[43mmy_string\u001b[49m\u001b[43m \u001b[49m\u001b[38;5;241;43m+\u001b[39;49m\u001b[43m \u001b[49m\u001b[43mmy_integer\u001b[49m)\n",
      "\u001b[1;31mTypeError\u001b[0m: can only concatenate str (not \"int\") to str"
     ]
    }
   ],
   "source": [
    "print(my_string + my_integer)"
   ]
  },
  {
   "cell_type": "code",
   "execution_count": 22,
   "metadata": {},
   "outputs": [],
   "source": [
    "#create your variables here\n",
    "your_bool = True\n",
    "your_int = 10\n",
    "your_float = 1.0\n",
    "your_string = \"cool\"\n",
    "#try to figure out why some of these don't evaluate to True\n",
    "assert your_bool\n",
    "assert type(your_int) is int\n",
    "assert type(your_float) is float\n",
    "assert type(your_string) is str\n"
   ]
  },
  {
   "cell_type": "markdown",
   "metadata": {},
   "source": [
    "# Comparison operators\n",
    "\n",
    "Evaluate to either True or False\n",
    "\n",
    "- `==` Equals                   <b> eq </b>\n",
    "- `>`  Greater than             <b> gt </b>\n",
    "- `>=` Greater than or equal to <b> ge </b>\n",
    "- `<`  Less than                <b> lt </b>\n",
    "- `<=` Less than or equal to    <b> le </b>\n",
    "- `!=` Not equal to             <b> ne </b>"
   ]
  },
  {
   "cell_type": "code",
   "execution_count": 23,
   "metadata": {},
   "outputs": [
    {
     "name": "stdout",
     "output_type": "stream",
     "text": [
      "True\n",
      "True\n",
      "True\n",
      "True\n",
      "True\n",
      "False 😬\n"
     ]
    }
   ],
   "source": [
    "print(3 < 4)\n",
    "print(3 <= 5)\n",
    "print(3 == 3)\n",
    "print(3 != 5)\n",
    "print(5 <= 5)\n",
    "print(33.3333 + 66.66666 == 99.99996, u\"\\U0001F62C\")"
   ]
  },
  {
   "cell_type": "code",
   "execution_count": 24,
   "metadata": {},
   "outputs": [
    {
     "name": "stdout",
     "output_type": "stream",
     "text": [
      "True\n",
      "True\n",
      "False\n",
      "True\n",
      "True\n"
     ]
    }
   ],
   "source": [
    "print(\"bob\" > \"abe\")\n",
    "print(\"bob\" < \"ron\")\n",
    "print(\"bob\" < \"arron\")\n",
    "print(\"rob\" < \"robert\")\n",
    "print(\"Bob\" != \"bob\")"
   ]
  },
  {
   "cell_type": "markdown",
   "metadata": {},
   "source": [
    "# Comparison Keywords\n",
    "\n",
    "- `and` -- returns True if both sides are True\n",
    "- `or`  -- returns True if either or both sides are True\n",
    "- `not` -- reverses the following True or False"
   ]
  },
  {
   "cell_type": "code",
   "execution_count": 25,
   "metadata": {},
   "outputs": [
    {
     "name": "stdout",
     "output_type": "stream",
     "text": [
      "False\n",
      "True\n",
      "False\n",
      "False\n",
      "True\n"
     ]
    }
   ],
   "source": [
    "print(True and False)\n",
    "print(True or False)\n",
    "print(False and False)\n",
    "print(False or False)\n",
    "print(not False)"
   ]
  },
  {
   "cell_type": "code",
   "execution_count": 27,
   "metadata": {},
   "outputs": [],
   "source": [
    "\n",
    "assert (not True and True) == False\n",
    "assert (not True or True) == True\n",
    "assert not (True or True) == False\n",
    "assert not (1 == 1) == False\n"
   ]
  },
  {
   "cell_type": "markdown",
   "metadata": {},
   "source": [
    "# Identity Comparison\n",
    "\n",
    "- `is`     -- returns True if the left and right objects are literally the same object\n",
    "- `is not` -- returns True if the left and right objects are seperate objects\n",
    "\n",
    "# Membership Comparison\n",
    "\n",
    "- `in`     -- returns True if left hand is a member of right hand collection\n",
    "- `not in` -- returns True if left hand is not a member of right hand collection"
   ]
  },
  {
   "cell_type": "code",
   "execution_count": 28,
   "metadata": {},
   "outputs": [],
   "source": [
    "mt_list = []"
   ]
  },
  {
   "cell_type": "code",
   "execution_count": 29,
   "metadata": {},
   "outputs": [
    {
     "name": "stdout",
     "output_type": "stream",
     "text": [
      "False\n",
      "True\n",
      "True\n"
     ]
    }
   ],
   "source": [
    "print(mt_list is [])\n",
    "print(mt_list is mt_list)\n",
    "print(mt_list == [])"
   ]
  },
  {
   "cell_type": "code",
   "execution_count": 30,
   "metadata": {},
   "outputs": [
    {
     "name": "stdout",
     "output_type": "stream",
     "text": [
      "False\n",
      "True\n",
      "False\n"
     ]
    }
   ],
   "source": [
    "print(\"bob\" in mt_list)\n",
    "print(\"fred\" not in mt_list)\n",
    "print([] in mt_list)"
   ]
  },
  {
   "cell_type": "code",
   "execution_count": 32,
   "metadata": {},
   "outputs": [],
   "source": [
    "#Activity\n",
    "\n",
    "assert (type(1) == type(1.0)) == False\n",
    "assert (1 != 1.0 and 2 < 20) == False\n",
    "assert (\"bob\" < \"alfred\" or \"bob\" >= \"ronald\") == False\n",
    "assert (\"bob\" == 'bob') == True\n",
    "assert (\"rob\" not in \"robert\") == False"
   ]
  },
  {
   "cell_type": "markdown",
   "metadata": {},
   "source": [
    "# Objects\n",
    "\n",
    "The type of an object is a class. Classes should be CapWords aka CamelCase.\n",
    "\n",
    "If the class is `Pet` examples of instanciated objects might be `dog` and `cat`\n",
    "\n",
    "In python <b> everything </b> is secretly an object\n",
    "\n",
    "### Methods\n",
    "\n",
    "Methods are part of the \"interface\" of the object. They are functions that directly use, affect, and make use of the information in an object but are defined by the class.\n",
    "\n",
    "If `Pet` defines a `speak()` method `dog.speak() == \"woof\"` while `cat.speak() == \"meow\"`.\n",
    "\n",
    "`dir({object})` will return all of the fields and methods of an object. Fields and methods with `__{name}__` are \"private\" and are generally not intended to be part of the interface.\n",
    "\n",
    "### - Key point -\n",
    "\n",
    "If you come from an R background, this will require a major change in thinking about how to code!\n",
    "\n",
    "In R, we do sum(x, y) to add x and y. In Python, we do x.sum(y) to add x and y. The operations you're going to want to use are often attached to objects!\n",
    "\n",
    "Most of the time, when doing things in python, you're going to be making objects and then using `object.do_the_thing()` to perform your analyses. You're going to use functions to do things much less often. If you want to see what methods an object has available, you can use `dir(object)` to see them all or type the name of the object, then a period and hit tab a few times to see what methods are available in your IDE."
   ]
  },
  {
   "cell_type": "code",
   "execution_count": 33,
   "metadata": {},
   "outputs": [],
   "source": [
    "class Pet :\n",
    "    def __init__(self, sound):\n",
    "        self.sound: str = sound\n",
    "        self.color = \"clear\"\n",
    "\n",
    "    def speak(self):\n",
    "        return self.sound.upper()\n",
    "\n",
    "    def whisper(self):\n",
    "        return self.sound.lower()"
   ]
  },
  {
   "cell_type": "code",
   "execution_count": 34,
   "metadata": {},
   "outputs": [],
   "source": [
    "dog = Pet(\"Woof\")\n",
    "cat = Pet(\"Meow\")"
   ]
  },
  {
   "cell_type": "code",
   "execution_count": 35,
   "metadata": {},
   "outputs": [
    {
     "data": {
      "text/plain": [
       "['__class__',\n",
       " '__delattr__',\n",
       " '__dict__',\n",
       " '__dir__',\n",
       " '__doc__',\n",
       " '__eq__',\n",
       " '__format__',\n",
       " '__ge__',\n",
       " '__getattribute__',\n",
       " '__getstate__',\n",
       " '__gt__',\n",
       " '__hash__',\n",
       " '__init__',\n",
       " '__init_subclass__',\n",
       " '__le__',\n",
       " '__lt__',\n",
       " '__module__',\n",
       " '__ne__',\n",
       " '__new__',\n",
       " '__reduce__',\n",
       " '__reduce_ex__',\n",
       " '__repr__',\n",
       " '__setattr__',\n",
       " '__sizeof__',\n",
       " '__str__',\n",
       " '__subclasshook__',\n",
       " '__weakref__',\n",
       " 'color',\n",
       " 'sound',\n",
       " 'speak',\n",
       " 'whisper']"
      ]
     },
     "execution_count": 35,
     "metadata": {},
     "output_type": "execute_result"
    }
   ],
   "source": [
    "dir(dog)"
   ]
  },
  {
   "cell_type": "code",
   "execution_count": 36,
   "metadata": {},
   "outputs": [
    {
     "name": "stdout",
     "output_type": "stream",
     "text": [
      "dogs say WOOF\n",
      "cats say MEOW\n"
     ]
    }
   ],
   "source": [
    "print(\"dogs say\", dog.speak())\n",
    "print(\"cats say\", cat.speak())"
   ]
  },
  {
   "cell_type": "code",
   "execution_count": 37,
   "metadata": {},
   "outputs": [
    {
     "name": "stdout",
     "output_type": "stream",
     "text": [
      "cats whisper meow\n"
     ]
    }
   ],
   "source": [
    "print(\"cats whisper\", cat.whisper())"
   ]
  },
  {
   "cell_type": "code",
   "execution_count": 38,
   "metadata": {},
   "outputs": [
    {
     "name": "stdout",
     "output_type": "stream",
     "text": [
      "clear\n",
      "clear\n"
     ]
    }
   ],
   "source": [
    "print(dog.color)\n",
    "print(cat.color)"
   ]
  },
  {
   "cell_type": "code",
   "execution_count": 39,
   "metadata": {},
   "outputs": [
    {
     "name": "stdout",
     "output_type": "stream",
     "text": [
      "black\n",
      "12\n"
     ]
    }
   ],
   "source": [
    "dog.color = \"black\"\n",
    "cat.color = 12\n",
    "\n",
    "print(dog.color)\n",
    "print(cat.color)"
   ]
  },
  {
   "cell_type": "code",
   "execution_count": 40,
   "metadata": {},
   "outputs": [
    {
     "name": "stdout",
     "output_type": "stream",
     "text": [
      "<class '__main__.Pet'> <class '__main__.Pet'>\n"
     ]
    }
   ],
   "source": [
    "print(type(dog), type(cat))"
   ]
  },
  {
   "cell_type": "code",
   "execution_count": 41,
   "metadata": {},
   "outputs": [
    {
     "name": "stdout",
     "output_type": "stream",
     "text": [
      "Our list has type: <class 'list'> and has a lenght of 0\n"
     ]
    }
   ],
   "source": [
    "list_type = type(mt_list)\n",
    "list_length = len(mt_list)\n",
    "print(f\"Our list has type: {list_type} and has a lenght of {list_length}\")"
   ]
  },
  {
   "cell_type": "code",
   "execution_count": 42,
   "metadata": {},
   "outputs": [
    {
     "data": {
      "text/plain": [
       "['__add__',\n",
       " '__class__',\n",
       " '__class_getitem__',\n",
       " '__contains__',\n",
       " '__delattr__',\n",
       " '__delitem__',\n",
       " '__dir__',\n",
       " '__doc__',\n",
       " '__eq__',\n",
       " '__format__',\n",
       " '__ge__',\n",
       " '__getattribute__',\n",
       " '__getitem__',\n",
       " '__getstate__',\n",
       " '__gt__',\n",
       " '__hash__',\n",
       " '__iadd__',\n",
       " '__imul__',\n",
       " '__init__',\n",
       " '__init_subclass__',\n",
       " '__iter__',\n",
       " '__le__',\n",
       " '__len__',\n",
       " '__lt__',\n",
       " '__mul__',\n",
       " '__ne__',\n",
       " '__new__',\n",
       " '__reduce__',\n",
       " '__reduce_ex__',\n",
       " '__repr__',\n",
       " '__reversed__',\n",
       " '__rmul__',\n",
       " '__setattr__',\n",
       " '__setitem__',\n",
       " '__sizeof__',\n",
       " '__str__',\n",
       " '__subclasshook__',\n",
       " 'append',\n",
       " 'clear',\n",
       " 'copy',\n",
       " 'count',\n",
       " 'extend',\n",
       " 'index',\n",
       " 'insert',\n",
       " 'pop',\n",
       " 'remove',\n",
       " 'reverse',\n",
       " 'sort']"
      ]
     },
     "execution_count": 42,
     "metadata": {},
     "output_type": "execute_result"
    }
   ],
   "source": [
    "dir(mt_list)"
   ]
  },
  {
   "cell_type": "code",
   "execution_count": 43,
   "metadata": {},
   "outputs": [
    {
     "name": "stdout",
     "output_type": "stream",
     "text": [
      "\u001b[1;31mSignature:\u001b[0m \u001b[0mlist\u001b[0m\u001b[1;33m.\u001b[0m\u001b[0mappend\u001b[0m\u001b[1;33m(\u001b[0m\u001b[0mself\u001b[0m\u001b[1;33m,\u001b[0m \u001b[0mobject\u001b[0m\u001b[1;33m,\u001b[0m \u001b[1;33m/\u001b[0m\u001b[1;33m)\u001b[0m\u001b[1;33m\u001b[0m\u001b[1;33m\u001b[0m\u001b[0m\n",
      "\u001b[1;31mDocstring:\u001b[0m Append object to the end of the list.\n",
      "\u001b[1;31mType:\u001b[0m      method_descriptor"
     ]
    }
   ],
   "source": [
    "?list.append"
   ]
  },
  {
   "cell_type": "code",
   "execution_count": 44,
   "metadata": {},
   "outputs": [
    {
     "name": "stdout",
     "output_type": "stream",
     "text": [
      "\u001b[1;31mSignature:\u001b[0m \u001b[0mlist\u001b[0m\u001b[1;33m.\u001b[0m\u001b[0mextend\u001b[0m\u001b[1;33m(\u001b[0m\u001b[0mself\u001b[0m\u001b[1;33m,\u001b[0m \u001b[0miterable\u001b[0m\u001b[1;33m,\u001b[0m \u001b[1;33m/\u001b[0m\u001b[1;33m)\u001b[0m\u001b[1;33m\u001b[0m\u001b[1;33m\u001b[0m\u001b[0m\n",
      "\u001b[1;31mDocstring:\u001b[0m Extend list by appending elements from the iterable.\n",
      "\u001b[1;31mType:\u001b[0m      method_descriptor"
     ]
    }
   ],
   "source": [
    "?list.extend"
   ]
  },
  {
   "cell_type": "code",
   "execution_count": 45,
   "metadata": {},
   "outputs": [
    {
     "name": "stdout",
     "output_type": "stream",
     "text": [
      "The new list is: ['bob', 42] \n",
      " mt_list is: [75.3]\n"
     ]
    }
   ],
   "source": [
    "new_list = [\"bob\", 42]\n",
    "mt_list.append(my_float)\n",
    "print(f\"The new list is: {new_list}\", \"\\n\", f\"mt_list is: {mt_list}\")"
   ]
  },
  {
   "cell_type": "code",
   "execution_count": 46,
   "metadata": {},
   "outputs": [
    {
     "name": "stdout",
     "output_type": "stream",
     "text": [
      "2 \n",
      " 1\n"
     ]
    }
   ],
   "source": [
    "print(len(new_list), \"\\n\", len(mt_list))"
   ]
  },
  {
   "cell_type": "code",
   "execution_count": 47,
   "metadata": {},
   "outputs": [],
   "source": [
    "mt_list.extend(new_list)\n"
   ]
  },
  {
   "cell_type": "code",
   "execution_count": 48,
   "metadata": {},
   "outputs": [
    {
     "name": "stdout",
     "output_type": "stream",
     "text": [
      "The contents of mt_list are: [75.3, 'bob', 42], with length: 3\n"
     ]
    }
   ],
   "source": [
    "print(f\"The contents of mt_list are: {mt_list}, with length: {len(mt_list)}\")"
   ]
  },
  {
   "cell_type": "code",
   "execution_count": 49,
   "metadata": {},
   "outputs": [
    {
     "name": "stdout",
     "output_type": "stream",
     "text": [
      "75.3\n",
      "42\n",
      "42\n",
      "75.3\n"
     ]
    }
   ],
   "source": [
    "first_item = mt_list[0]\n",
    "third_item = mt_list[2]\n",
    "last_item = mt_list[-1]\n",
    "third_from_last = mt_list[-3]\n",
    "\n",
    "print(first_item, third_item, last_item, third_from_last, sep= \"\\n\")"
   ]
  },
  {
   "cell_type": "code",
   "execution_count": 50,
   "metadata": {},
   "outputs": [
    {
     "ename": "IndexError",
     "evalue": "list index out of range",
     "output_type": "error",
     "traceback": [
      "\u001b[1;31m---------------------------------------------------------------------------\u001b[0m",
      "\u001b[1;31mIndexError\u001b[0m                                Traceback (most recent call last)",
      "Cell \u001b[1;32mIn[50], line 1\u001b[0m\n\u001b[1;32m----> 1\u001b[0m fourth_item \u001b[38;5;241m=\u001b[39m \u001b[43mmt_list\u001b[49m\u001b[43m[\u001b[49m\u001b[38;5;241;43m3\u001b[39;49m\u001b[43m]\u001b[49m\n",
      "\u001b[1;31mIndexError\u001b[0m: list index out of range"
     ]
    }
   ],
   "source": [
    "fourth_item = mt_list[3]"
   ]
  },
  {
   "cell_type": "code",
   "execution_count": 51,
   "metadata": {},
   "outputs": [
    {
     "name": "stdout",
     "output_type": "stream",
     "text": [
      "[75.3, 'bob', 25]\n"
     ]
    }
   ],
   "source": [
    "mt_list[2] = 25\n",
    "print(mt_list)"
   ]
  },
  {
   "cell_type": "code",
   "execution_count": 52,
   "metadata": {},
   "outputs": [],
   "source": [
    "mt_list = [75.3, \"bob\", 42]"
   ]
  },
  {
   "cell_type": "code",
   "execution_count": 53,
   "metadata": {},
   "outputs": [],
   "source": [
    "assert mt_list[1] == \"bob\"\n",
    "\n",
    "#using one command make it so that mt_list has a length of 6\n",
    "mt_list *= 2\n",
    "assert len(mt_list) == 6\n"
   ]
  },
  {
   "cell_type": "code",
   "execution_count": 54,
   "metadata": {},
   "outputs": [
    {
     "name": "stdout",
     "output_type": "stream",
     "text": [
      "[75.3, 'bob', 42, 75.3, 'bob', 42]\n"
     ]
    }
   ],
   "source": [
    "print(mt_list)"
   ]
  },
  {
   "cell_type": "code",
   "execution_count": 55,
   "metadata": {},
   "outputs": [
    {
     "name": "stdout",
     "output_type": "stream",
     "text": [
      "\u001b[1;31mSignature:\u001b[0m \u001b[0mlist\u001b[0m\u001b[1;33m.\u001b[0m\u001b[0mpop\u001b[0m\u001b[1;33m(\u001b[0m\u001b[0mself\u001b[0m\u001b[1;33m,\u001b[0m \u001b[0mindex\u001b[0m\u001b[1;33m=\u001b[0m\u001b[1;33m-\u001b[0m\u001b[1;36m1\u001b[0m\u001b[1;33m,\u001b[0m \u001b[1;33m/\u001b[0m\u001b[1;33m)\u001b[0m\u001b[1;33m\u001b[0m\u001b[1;33m\u001b[0m\u001b[0m\n",
      "\u001b[1;31mDocstring:\u001b[0m\n",
      "Remove and return item at index (default last).\n",
      "\n",
      "Raises IndexError if list is empty or index is out of range.\n",
      "\u001b[1;31mType:\u001b[0m      method_descriptor"
     ]
    }
   ],
   "source": [
    "?list.pop"
   ]
  },
  {
   "cell_type": "code",
   "execution_count": 56,
   "metadata": {},
   "outputs": [
    {
     "name": "stdout",
     "output_type": "stream",
     "text": [
      "42 \n",
      " [75.3, 'bob', 42, 75.3, 'bob']\n"
     ]
    }
   ],
   "source": [
    "last_val = mt_list.pop()\n",
    "print(last_val, \"\\n\", mt_list)"
   ]
  },
  {
   "cell_type": "code",
   "execution_count": 57,
   "metadata": {},
   "outputs": [],
   "source": [
    "days = [\n",
    "    \"Mon\",\n",
    "    \"Tues\",\n",
    "    \"Wed\",\n",
    "    \"Thurs\",\n",
    "    \"Fri\",\n",
    "    \"Sat\",\n",
    "    \"Sun\"\n",
    "]"
   ]
  },
  {
   "cell_type": "code",
   "execution_count": 58,
   "metadata": {},
   "outputs": [
    {
     "name": "stdout",
     "output_type": "stream",
     "text": [
      "['Mon', 'Tues', 'Wed', 'Thurs', 'Fri', 'Sat', 'Sun']\n",
      "['Mon', 'Tues', 'Wed', 'Thurs', 'Fri']\n",
      "['Sat', 'Sun']\n"
     ]
    }
   ],
   "source": [
    "days_that_end_in_day = days[:]\n",
    "weekdays = days[:-2]\n",
    "weekend = days[5:]\n",
    "\n",
    "print(days_that_end_in_day, weekdays, weekend, sep= \"\\n\")"
   ]
  },
  {
   "cell_type": "code",
   "execution_count": 59,
   "metadata": {},
   "outputs": [
    {
     "name": "stdout",
     "output_type": "stream",
     "text": [
      "[[75.3, 'bob', 42, 75.3, 'bob'], ['Mon', 'Tues', 'Wed', 'Thurs', 'Fri', 'Sat', 'Sun']]\n"
     ]
    }
   ],
   "source": [
    "list_of_lists = [mt_list, days]\n",
    "print(list_of_lists)"
   ]
  },
  {
   "cell_type": "code",
   "execution_count": 60,
   "metadata": {},
   "outputs": [
    {
     "name": "stdout",
     "output_type": "stream",
     "text": [
      "bob\n"
     ]
    }
   ],
   "source": [
    "print(list_of_lists[0][1])"
   ]
  },
  {
   "cell_type": "markdown",
   "metadata": {},
   "source": [
    "### Multiple assignment\n",
    "\n",
    "Save the values of a collection as seperate variables.\n",
    "- new variable names must be comma seperated\n",
    "- you must have a name for EVERY value in the collection\n",
    "- `_` is used to capture values that you aren't trying to keep"
   ]
  },
  {
   "cell_type": "code",
   "execution_count": 61,
   "metadata": {},
   "outputs": [
    {
     "name": "stdout",
     "output_type": "stream",
     "text": [
      "First list is: [75.3, 'bob', 42, 75.3, 'bob']\n",
      "Second list is: ['Mon', 'Tues', 'Wed', 'Thurs', 'Fri', 'Sat', 'Sun']\n"
     ]
    }
   ],
   "source": [
    "first_list, second_list = list_of_lists\n",
    "\n",
    "print(f\"First list is: {first_list}\")\n",
    "print(f\"Second list is: {second_list}\")"
   ]
  },
  {
   "cell_type": "markdown",
   "metadata": {},
   "source": [
    "# Other collections"
   ]
  },
  {
   "cell_type": "code",
   "execution_count": 62,
   "metadata": {},
   "outputs": [
    {
     "name": "stdout",
     "output_type": "stream",
     "text": [
      "Bob\n",
      "Bob\n"
     ]
    }
   ],
   "source": [
    "a_tuple = (\"Bob\", 24, 37.0)\n",
    "a_dict = {\"name\": \"Bob\", \"age\": 24, \"weight\": 37.0}\n",
    "\n",
    "print(a_tuple[0])\n",
    "print(a_dict[\"name\"])"
   ]
  },
  {
   "cell_type": "code",
   "execution_count": 63,
   "metadata": {},
   "outputs": [
    {
     "name": "stdout",
     "output_type": "stream",
     "text": [
      "\u001b[1;31mInit signature:\u001b[0m \u001b[0mtuple\u001b[0m\u001b[1;33m(\u001b[0m\u001b[0miterable\u001b[0m\u001b[1;33m=\u001b[0m\u001b[1;33m(\u001b[0m\u001b[1;33m)\u001b[0m\u001b[1;33m,\u001b[0m \u001b[1;33m/\u001b[0m\u001b[1;33m)\u001b[0m\u001b[1;33m\u001b[0m\u001b[1;33m\u001b[0m\u001b[0m\n",
      "\u001b[1;31mDocstring:\u001b[0m     \n",
      "Built-in immutable sequence.\n",
      "\n",
      "If no argument is given, the constructor returns an empty tuple.\n",
      "If iterable is specified the tuple is initialized from iterable's items.\n",
      "\n",
      "If the argument is a tuple, the return value is the same object.\n",
      "\u001b[1;31mType:\u001b[0m           type\n",
      "\u001b[1;31mSubclasses:\u001b[0m     int_info, float_info, UnraisableHookArgs, hash_info, version_info, flags, getwindowsversion, thread_info, asyncgen_hooks, _ExceptHookArgs, ..."
     ]
    }
   ],
   "source": [
    "?tuple"
   ]
  },
  {
   "cell_type": "code",
   "execution_count": 64,
   "metadata": {},
   "outputs": [
    {
     "ename": "TypeError",
     "evalue": "'tuple' object does not support item assignment",
     "output_type": "error",
     "traceback": [
      "\u001b[1;31m---------------------------------------------------------------------------\u001b[0m",
      "\u001b[1;31mTypeError\u001b[0m                                 Traceback (most recent call last)",
      "Cell \u001b[1;32mIn[64], line 1\u001b[0m\n\u001b[1;32m----> 1\u001b[0m \u001b[43ma_tuple\u001b[49m\u001b[43m[\u001b[49m\u001b[38;5;241;43m0\u001b[39;49m\u001b[43m]\u001b[49m \u001b[38;5;241m=\u001b[39m \u001b[38;5;124m\"\u001b[39m\u001b[38;5;124mfred\u001b[39m\u001b[38;5;124m\"\u001b[39m\n",
      "\u001b[1;31mTypeError\u001b[0m: 'tuple' object does not support item assignment"
     ]
    }
   ],
   "source": [
    "a_tuple[0] = \"fred\""
   ]
  },
  {
   "cell_type": "code",
   "execution_count": 65,
   "metadata": {},
   "outputs": [
    {
     "name": "stdout",
     "output_type": "stream",
     "text": [
      "\u001b[1;31mInit signature:\u001b[0m \u001b[0mdict\u001b[0m\u001b[1;33m(\u001b[0m\u001b[0mself\u001b[0m\u001b[1;33m,\u001b[0m \u001b[1;33m/\u001b[0m\u001b[1;33m,\u001b[0m \u001b[1;33m*\u001b[0m\u001b[0margs\u001b[0m\u001b[1;33m,\u001b[0m \u001b[1;33m**\u001b[0m\u001b[0mkwargs\u001b[0m\u001b[1;33m)\u001b[0m\u001b[1;33m\u001b[0m\u001b[1;33m\u001b[0m\u001b[0m\n",
      "\u001b[1;31mDocstring:\u001b[0m     \n",
      "dict() -> new empty dictionary\n",
      "dict(mapping) -> new dictionary initialized from a mapping object's\n",
      "    (key, value) pairs\n",
      "dict(iterable) -> new dictionary initialized as if via:\n",
      "    d = {}\n",
      "    for k, v in iterable:\n",
      "        d[k] = v\n",
      "dict(**kwargs) -> new dictionary initialized with the name=value pairs\n",
      "    in the keyword argument list.  For example:  dict(one=1, two=2)\n",
      "\u001b[1;31mType:\u001b[0m           type\n",
      "\u001b[1;31mSubclasses:\u001b[0m     OrderedDict, defaultdict, Counter, _EnumDict, _Quoter, Bunch, ObjectDict, StgDict, ConvertingDict, Config, ..."
     ]
    }
   ],
   "source": [
    "?dict"
   ]
  },
  {
   "cell_type": "code",
   "execution_count": 66,
   "metadata": {},
   "outputs": [],
   "source": [
    "a_dict[\"home\"] = \"Wilmington\"\n",
    "a_dict[\"name\"] = \"Fred\""
   ]
  },
  {
   "cell_type": "code",
   "execution_count": 67,
   "metadata": {},
   "outputs": [
    {
     "name": "stdout",
     "output_type": "stream",
     "text": [
      "{'name': 'Fred', 'age': 24, 'weight': 37.0, 'home': 'Wilmington'}\n"
     ]
    }
   ],
   "source": [
    "print(a_dict)"
   ]
  },
  {
   "cell_type": "markdown",
   "metadata": {},
   "source": [
    "# Looping\n",
    "\n",
    "Looping lets you do the same thing multiple times without copying and pasting a bunch of code.\n",
    "\n",
    "There are multiple types of loops in python.\n",
    "\n",
    "## - Key point -\n",
    "\n",
    "In python, we use indentation to indicate what code is inside of a loop. This is different from R, where we use curly braces to indicate what code is inside of a loop.\n",
    "\n",
    "This means that tabs are really important in python, so be careful!\n",
    "\n",
    "## for loops\n",
    "\n",
    "Take a collection of things, assign each thing to a variable, and then do something with that variable. Each iteration of the loop, the value in the variable changes.\n",
    "\n",
    "```\n",
    "for {value} in {iterable}:\n",
    "    do things with value\n",
    "```\n"
   ]
  },
  {
   "cell_type": "code",
   "execution_count": 68,
   "metadata": {},
   "outputs": [
    {
     "name": "stdout",
     "output_type": "stream",
     "text": [
      "\u001b[1;31mInit signature:\u001b[0m \u001b[0mrange\u001b[0m\u001b[1;33m(\u001b[0m\u001b[0mself\u001b[0m\u001b[1;33m,\u001b[0m \u001b[1;33m/\u001b[0m\u001b[1;33m,\u001b[0m \u001b[1;33m*\u001b[0m\u001b[0margs\u001b[0m\u001b[1;33m,\u001b[0m \u001b[1;33m**\u001b[0m\u001b[0mkwargs\u001b[0m\u001b[1;33m)\u001b[0m\u001b[1;33m\u001b[0m\u001b[1;33m\u001b[0m\u001b[0m\n",
      "\u001b[1;31mDocstring:\u001b[0m     \n",
      "range(stop) -> range object\n",
      "range(start, stop[, step]) -> range object\n",
      "\n",
      "Return an object that produces a sequence of integers from start (inclusive)\n",
      "to stop (exclusive) by step.  range(i, j) produces i, i+1, i+2, ..., j-1.\n",
      "start defaults to 0, and stop is omitted!  range(4) produces 0, 1, 2, 3.\n",
      "These are exactly the valid indices for a list of 4 elements.\n",
      "When step is given, it specifies the increment (or decrement).\n",
      "\u001b[1;31mType:\u001b[0m           type\n",
      "\u001b[1;31mSubclasses:\u001b[0m     "
     ]
    }
   ],
   "source": [
    "?range"
   ]
  },
  {
   "cell_type": "code",
   "execution_count": 69,
   "metadata": {},
   "outputs": [
    {
     "name": "stdout",
     "output_type": "stream",
     "text": [
      "0\n",
      "1\n",
      "2\n",
      "3\n",
      "4\n"
     ]
    }
   ],
   "source": [
    "for i in range(5):\n",
    "    print(i)\n"
   ]
  },
  {
   "cell_type": "code",
   "execution_count": 70,
   "metadata": {},
   "outputs": [
    {
     "name": "stdout",
     "output_type": "stream",
     "text": [
      "1\n",
      "3\n",
      "5\n",
      "7\n",
      "9\n"
     ]
    }
   ],
   "source": [
    "odds = range(1, 10, 2)\n",
    "for i in odds:\n",
    "    print(i)"
   ]
  },
  {
   "cell_type": "markdown",
   "metadata": {},
   "source": [
    "### `{value}` is a copy, not the actual object "
   ]
  },
  {
   "cell_type": "code",
   "execution_count": 71,
   "metadata": {},
   "outputs": [
    {
     "name": "stdout",
     "output_type": "stream",
     "text": [
      "Monday\n",
      "Tuesday\n",
      "Wedday\n",
      "Thursday\n",
      "Friday\n",
      "Satday\n",
      "Sunday\n",
      "['Mon', 'Tues', 'Wed', 'Thurs', 'Fri', 'Sat', 'Sun']\n"
     ]
    }
   ],
   "source": [
    "for day in days:\n",
    "    day += \"day\"\n",
    "    print(day)\n",
    "\n",
    "print(days)"
   ]
  },
  {
   "cell_type": "code",
   "execution_count": 72,
   "metadata": {},
   "outputs": [
    {
     "name": "stdout",
     "output_type": "stream",
     "text": [
      "Monday\n",
      "Tuesday\n",
      "Wedday\n",
      "Thursday\n",
      "Friday\n",
      "Satday\n",
      "Sunday\n",
      "['Monday', 'Tuesday', 'Wedday', 'Thursday', 'Friday', 'Satday', 'Sunday']\n"
     ]
    }
   ],
   "source": [
    "for i in range(len(days)):\n",
    "    days[i] += \"day\"\n",
    "    print(days[i])\n",
    "\n",
    "print(days)"
   ]
  },
  {
   "cell_type": "code",
   "execution_count": 73,
   "metadata": {},
   "outputs": [],
   "source": [
    "days = [\n",
    "    \"Mon\",\n",
    "    \"Tues\",\n",
    "    \"Wed\",\n",
    "    \"Thurs\",\n",
    "    \"Fri\",\n",
    "    \"Sat\",\n",
    "    \"Sun\"\n",
    "]"
   ]
  },
  {
   "cell_type": "markdown",
   "metadata": {},
   "source": [
    "# Important\n",
    "### List comprehension\n",
    "\n",
    "shorthand `for` looping to make new collections based of other collections\n",
    "\n",
    "You put it all in square brackets and follow this syntax:\n",
    "\n",
    "`[ {thing to do with {variable}} for {variable} in {bunch O stuff} ]`"
   ]
  },
  {
   "cell_type": "code",
   "execution_count": 74,
   "metadata": {},
   "outputs": [
    {
     "name": "stdout",
     "output_type": "stream",
     "text": [
      "['Monday', 'Tuesday', 'Wedday', 'Thursday', 'Friday', 'Satday', 'Sunday']\n"
     ]
    }
   ],
   "source": [
    "new_days = [ day + \"day\" for day in days ]\n",
    "print(new_days)"
   ]
  },
  {
   "cell_type": "markdown",
   "metadata": {},
   "source": [
    "## while loops\n",
    "\n",
    "For loops do something a certain number of times. We use these when we know how many times we want to do something since we know how many things are in the collection.\n",
    "\n",
    "When we want to do something an indeterminate number of times, we use a while loop.\n",
    "\n",
    "A while loop will continue to run until a condition is met.\n",
    "\n",
    "The format for a while loop is:\n",
    "\n",
    "while {condition}:\n",
    "    do things\n",
    "\n",
    "The {condition} needs to evaluate to a boolean value (True or False). If it evaluates to True, the loop will run. If it evaluates to False, the loop will stop.\n",
    "\n",
    "### - Key point -\n",
    "\n",
    "While loops can be dangerous! If the condition you're testing can never evaluate to False, the loop will run until the heat death of the universe. This is called an infinite loop. If you accidentally create an infinite loop, you can stop it by pressing the stop button in your IDE or ctrl+c in your terminal."
   ]
  },
  {
   "cell_type": "code",
   "execution_count": 75,
   "metadata": {},
   "outputs": [
    {
     "name": "stdout",
     "output_type": "stream",
     "text": [
      "0\n",
      "1\n",
      "2\n",
      "3\n",
      "4\n",
      "5\n",
      "6\n",
      "7\n",
      "8\n",
      "9\n"
     ]
    }
   ],
   "source": [
    "max_number = 10\n",
    "\n",
    "current_number = 0\n",
    "\n",
    "while(current_number < max_number):\n",
    "    print(current_number)\n",
    "    current_number += 1"
   ]
  },
  {
   "cell_type": "markdown",
   "metadata": {},
   "source": [
    "# Conditionals #\n",
    "\n",
    "``` \n",
    "if {True}:                                      \n",
    "    do stuff                                     \n",
    "elif {True}:                                     \n",
    "    do other stuff                               \n",
    "else:                                            \n",
    "    do stuff if both earlier statments are false \n",
    "    \n",
    "```"
   ]
  },
  {
   "cell_type": "code",
   "execution_count": 76,
   "metadata": {},
   "outputs": [
    {
     "name": "stdout",
     "output_type": "stream",
     "text": [
      "Monday\n",
      "Tuesday\n",
      "Wednesday\n",
      "Thursday\n",
      "Friday\n",
      "Saturday\n",
      "Sunday\n",
      "['Mon', 'Tues', 'Wed', 'Thurs', 'Fri', 'Sat', 'Sun']\n"
     ]
    }
   ],
   "source": [
    "for day in days:\n",
    "    if day == \"Wed\":\n",
    "        day = \"Wednesday\"\n",
    "    elif day == \"Sat\":\n",
    "        day = \"Saturday\"\n",
    "    else:\n",
    "        day += \"day\"\n",
    "\n",
    "    print(day)\n",
    "\n",
    "print(days)"
   ]
  },
  {
   "cell_type": "code",
   "execution_count": 77,
   "metadata": {},
   "outputs": [
    {
     "name": "stdout",
     "output_type": "stream",
     "text": [
      "['M', 'Tu', 'W', 'Th', 'F', 'Sa', 'Su']\n"
     ]
    }
   ],
   "source": [
    "short_days = [ day[:2] if day in [\"Tues\", \"Thurs\", \"Sat\", \"Sun\"] else day[0] for day in days ]\n",
    "print(short_days)"
   ]
  },
  {
   "cell_type": "code",
   "execution_count": 78,
   "metadata": {},
   "outputs": [
    {
     "name": "stdout",
     "output_type": "stream",
     "text": [
      "\u001b[1;31mInit signature:\u001b[0m \u001b[0mzip\u001b[0m\u001b[1;33m(\u001b[0m\u001b[0mself\u001b[0m\u001b[1;33m,\u001b[0m \u001b[1;33m/\u001b[0m\u001b[1;33m,\u001b[0m \u001b[1;33m*\u001b[0m\u001b[0margs\u001b[0m\u001b[1;33m,\u001b[0m \u001b[1;33m**\u001b[0m\u001b[0mkwargs\u001b[0m\u001b[1;33m)\u001b[0m\u001b[1;33m\u001b[0m\u001b[1;33m\u001b[0m\u001b[0m\n",
      "\u001b[1;31mDocstring:\u001b[0m     \n",
      "zip(*iterables, strict=False) --> Yield tuples until an input is exhausted.\n",
      "\n",
      "   >>> list(zip('abcdefg', range(3), range(4)))\n",
      "   [('a', 0, 0), ('b', 1, 1), ('c', 2, 2)]\n",
      "\n",
      "The zip object yields n-length tuples, where n is the number of iterables\n",
      "passed as positional arguments to zip().  The i-th element in every tuple\n",
      "comes from the i-th iterable argument to zip().  This continues until the\n",
      "shortest argument is exhausted.\n",
      "\n",
      "If strict is true and one of the arguments is exhausted before the others,\n",
      "raise a ValueError.\n",
      "\u001b[1;31mType:\u001b[0m           type\n",
      "\u001b[1;31mSubclasses:\u001b[0m     "
     ]
    }
   ],
   "source": [
    "?zip"
   ]
  },
  {
   "cell_type": "code",
   "execution_count": 79,
   "metadata": {},
   "outputs": [
    {
     "name": "stdout",
     "output_type": "stream",
     "text": [
      "{'M': ' white ', 'Tu': ' buffalo_chicken ', 'W': ' pepperoni ', 'Th': ' cheeze(tm) ', 'F': ' pinapple ', 'Sa': ' supreme ', 'Su': ' chipotle_chicken '}\n"
     ]
    }
   ],
   "source": [
    "menu = dict(zip(short_days, [\n",
    "    \" white \",\n",
    "    \" buffalo_chicken \",\n",
    "    \" pepperoni \",\n",
    "    \" cheeze(tm) \",\n",
    "    \" pinapple \",\n",
    "    \" supreme \",\n",
    "    \" chipotle_chicken \"\n",
    "    ]))\n",
    "\n",
    "print(menu)"
   ]
  },
  {
   "cell_type": "code",
   "execution_count": 80,
   "metadata": {},
   "outputs": [],
   "source": [
    "#replace underscores with spaces\n",
    "#strip extra whitespace\n",
    "#use real cheese\n",
    "#replace pinapple (yuck) pizza with another kind of pizza\n",
    "#use title case for the names of the pizzas\n",
    "#print the full name of the day of the week and the pizza that will be served on that day\n",
    "\n",
    "\n"
   ]
  },
  {
   "cell_type": "code",
   "execution_count": 81,
   "metadata": {},
   "outputs": [
    {
     "name": "stdout",
     "output_type": "stream",
     "text": [
      "{'Monday': ' white ', 'Tuesday': ' buffalo_chicken ', 'Wednesday': ' pepperoni ', 'Thursday': ' cheeze(tm) ', 'Friday': ' pinapple ', 'Saturday': ' supreme ', 'Sunday': ' chipotle_chicken '}\n",
      "The Pizza on Monday will be White\n",
      "The Pizza on Tuesday will be Buffalo Chicken\n",
      "The Pizza on Wednesday will be Pepperoni\n",
      "The Pizza on Thursday will be Cheese\n",
      "The Pizza on Friday will be Hawaiian\n",
      "The Pizza on Saturday will be Supreme\n",
      "The Pizza on Sunday will be Chipotle Chicken\n"
     ]
    }
   ],
   "source": [
    "ld_menu = dict(zip(\n",
    "    [ day + \"day\" if day not in [\"Wed\", \"Sat\"] else \"Wednesday\" if day == \"Wed\" else \"Saturday\" for day in days ],\n",
    "    menu.values()\n",
    "))\n",
    "\n",
    "print(ld_menu)\n",
    "\n",
    "for day, food in ld_menu.items():\n",
    "    if \"cheeze\" in food:\n",
    "        food = \"cheese\"\n",
    "    elif \"pinapple\" in food:\n",
    "        food = \"hawaiian\"\n",
    "\n",
    "    food = food.strip().replace(\"_\", \" \").title()\n",
    "\n",
    "    print(f\"The Pizza on {day} will be {food}\")\n"
   ]
  },
  {
   "cell_type": "code",
   "execution_count": null,
   "metadata": {},
   "outputs": [],
   "source": []
  }
 ],
 "metadata": {
  "kernelspec": {
   "display_name": "Python 3.10.9 ('base')",
   "language": "python",
   "name": "python3"
  },
  "language_info": {
   "codemirror_mode": {
    "name": "ipython",
    "version": 3
   },
   "file_extension": ".py",
   "mimetype": "text/x-python",
   "name": "python",
   "nbconvert_exporter": "python",
   "pygments_lexer": "ipython3",
   "version": "3.11.4"
  },
  "orig_nbformat": 4,
  "vscode": {
   "interpreter": {
    "hash": "1bc58cb120898ad3dccd294d57a95821883a34aa1c706ace19e7c5127c7e52b8"
   }
  }
 },
 "nbformat": 4,
 "nbformat_minor": 2
}
