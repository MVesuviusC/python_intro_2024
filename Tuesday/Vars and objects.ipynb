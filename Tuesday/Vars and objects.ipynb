{
 "cells": [
  {
   "cell_type": "markdown",
   "metadata": {},
   "source": [
    "# Functions\n",
    "\n",
    "Functions are an encapsulated set of instructions that either performs an operation or returns a value.\n",
    "\n",
    "Use the function ` print ` to display the result of the expression, or the contents of a variable inside the parenthesis.\n",
    "\n",
    "To call a function, add parentheses to the end of the function name and then add the arguments/parameters for the function inside the paranthesis seperated by `,`.\n",
    "\n",
    "- argument names w/o `=` are just normal arguments, values are matched to arguments based on order\n",
    "- `*args` any number of unnamed arguments\n",
    "- \"keyword arguments\" w/ `=` are passed to the function with `{arg_name}= {value}` keyword arguments may be passed in any order. Any keywords that are skipped will use their default value.\n",
    "- `**kwargs` means the function will accept any number of additional keyword arguments. Usually allows a top level function to pass keyword arguments to a lower function."
   ]
  },
  {
   "cell_type": "code",
   "execution_count": null,
   "metadata": {},
   "outputs": [],
   "source": [
    "?print"
   ]
  },
  {
   "cell_type": "code",
   "execution_count": null,
   "metadata": {},
   "outputs": [],
   "source": [
    "message = \"Hello World!\"\n",
    "print(message)"
   ]
  },
  {
   "cell_type": "code",
   "execution_count": null,
   "metadata": {},
   "outputs": [],
   "source": [
    "# This is a comment. The computer wont try to interpret anything after the # sign on this line\n",
    "my_bool = False\n",
    "my_integer = 4\n",
    "my_float = 75.3\n",
    "my_string = \"variables are snake_case\""
   ]
  },
  {
   "cell_type": "code",
   "execution_count": null,
   "metadata": {},
   "outputs": [],
   "source": [
    "?type"
   ]
  },
  {
   "cell_type": "code",
   "execution_count": null,
   "metadata": {},
   "outputs": [],
   "source": [
    "out = type(my_integer)"
   ]
  },
  {
   "cell_type": "code",
   "execution_count": null,
   "metadata": {},
   "outputs": [],
   "source": [
    "print(out)"
   ]
  },
  {
   "cell_type": "code",
   "execution_count": null,
   "metadata": {},
   "outputs": [],
   "source": [
    "print(type(out))"
   ]
  },
  {
   "cell_type": "code",
   "execution_count": null,
   "metadata": {},
   "outputs": [],
   "source": [
    "print(type(type(my_integer)))"
   ]
  },
  {
   "cell_type": "code",
   "execution_count": null,
   "metadata": {},
   "outputs": [],
   "source": [
    "print(type(print))"
   ]
  },
  {
   "cell_type": "code",
   "execution_count": null,
   "metadata": {},
   "outputs": [],
   "source": [
    "print(type(my_integer), type(my_float), type(my_string), type(True))"
   ]
  },
  {
   "cell_type": "code",
   "execution_count": null,
   "metadata": {},
   "outputs": [],
   "source": [
    "print(my_integer, my_float, my_string, my_bool)"
   ]
  },
  {
   "cell_type": "markdown",
   "metadata": {},
   "source": [
    "# String Formating\n",
    "- use commas to seperate values\n",
    "- use `f\"{value}\"` <- Prefered way\n",
    "- use `\"{0}\".format(0th_value)` method <- the old way"
   ]
  },
  {
   "cell_type": "code",
   "execution_count": null,
   "metadata": {},
   "outputs": [],
   "source": [
    "print(f\"{my_string} {my_float}% of the time, {my_integer}% of the time\")"
   ]
  },
  {
   "cell_type": "code",
   "execution_count": null,
   "metadata": {},
   "outputs": [],
   "source": [
    "print(\"{0} {1}% of the time, {2}% of the time\".format(my_string, my_float, my_integer))"
   ]
  },
  {
   "cell_type": "markdown",
   "metadata": {},
   "source": [
    "# Arithmatic Operators #\n",
    "\n",
    "- ` + ` addition for numbers, concatenation for strings\n",
    "- ` += ` add the right hand side to the value already stored in the left hand side\n",
    "- ` - ` subtraction\n",
    "- ` * ` multiplication, repeating for strings\n",
    "- ` @ ` reserved for matrix multiplication -- doesnt work on built in types\n",
    "- ` / ` division -- will always return a float\n",
    "- ` // ` floor division -- will return an integer if only integers are used, rounded down\n",
    "- ` % ` modulo -- returns the integer remainder of division between integers\n",
    "- ` ** ` exponetiation\n",
    "\n",
    "\n",
    "If either member of an expression is a float the other member will be converted to a float before the operation."
   ]
  },
  {
   "cell_type": "code",
   "execution_count": null,
   "metadata": {},
   "outputs": [],
   "source": [
    "print(2 + 2)\n",
    "print(type(2 + 2.0))\n",
    "print(2 + 2.0)"
   ]
  },
  {
   "cell_type": "code",
   "execution_count": null,
   "metadata": {},
   "outputs": [],
   "source": [
    "print(33.3333 + 66.6666)\n",
    "print(33.3333 + 66.66666)\n",
    "print(99.99996)"
   ]
  },
  {
   "cell_type": "code",
   "execution_count": null,
   "metadata": {},
   "outputs": [],
   "source": [
    "print(\"this is\" + 'a string')"
   ]
  },
  {
   "cell_type": "code",
   "execution_count": null,
   "metadata": {},
   "outputs": [],
   "source": [
    "a = 1\n",
    "\n",
    "#these are the same thing\n",
    "a = a + 1\n",
    "a += 1\n",
    "print(a)\n",
    "\n",
    "a -= 1\n",
    "print(a)"
   ]
  },
  {
   "cell_type": "code",
   "execution_count": null,
   "metadata": {},
   "outputs": [],
   "source": [
    "print(my_integer + my_float + my_string)"
   ]
  },
  {
   "cell_type": "code",
   "execution_count": null,
   "metadata": {},
   "outputs": [],
   "source": [
    "print(my_integer + my_float)"
   ]
  },
  {
   "cell_type": "code",
   "execution_count": null,
   "metadata": {},
   "outputs": [],
   "source": [
    "print(my_string + my_integer)"
   ]
  },
  {
   "cell_type": "code",
   "execution_count": null,
   "metadata": {},
   "outputs": [],
   "source": [
    "#create your variables here\n",
    "\n",
    "#try to figure out why some of these don't evaluate to True\n",
    "assert your_bool\n",
    "assert your_int is int\n",
    "assert your_float is float\n",
    "assert your_string is str\n"
   ]
  },
  {
   "cell_type": "markdown",
   "metadata": {},
   "source": [
    "# Comparison operators\n",
    "\n",
    "Evaluate to either True or False\n",
    "\n",
    "- `==` Equals                   <b> eq </b>\n",
    "- `>`  Greater than             <b> gt </b>\n",
    "- `>=` Greater than or equal to <b> ge </b>\n",
    "- `<`  Less than                <b> lt </b>\n",
    "- `<=` Less than or equal to    <b> le </b>\n",
    "- `!=` Not equal to             <b> ne </b>"
   ]
  },
  {
   "cell_type": "code",
   "execution_count": null,
   "metadata": {},
   "outputs": [],
   "source": [
    "print(3 < 4)\n",
    "print(3 <= 5)\n",
    "print(3 == 3)\n",
    "print(3 != 5)\n",
    "print(5 <= 5)\n",
    "print(33.3333 + 66.66666 == 99.99996, u\"\\U0001F62C\")"
   ]
  },
  {
   "cell_type": "code",
   "execution_count": null,
   "metadata": {},
   "outputs": [],
   "source": [
    "print(\"bob\" > \"abe\")\n",
    "print(\"bob\" < \"ron\")\n",
    "print(\"bob\" < \"arron\")\n",
    "print(\"rob\" < \"robert\")\n",
    "print(\"Bob\" != \"bob\")"
   ]
  },
  {
   "cell_type": "markdown",
   "metadata": {},
   "source": [
    "# Comparison Keywords\n",
    "\n",
    "- `and` -- returns True if both sides are True\n",
    "- `or`  -- returns True if either or both sides are True\n",
    "- `not` -- reverses the following True or False"
   ]
  },
  {
   "cell_type": "code",
   "execution_count": null,
   "metadata": {},
   "outputs": [],
   "source": [
    "print(True and False)\n",
    "print(True or False)\n",
    "print(False and False)\n",
    "print(False or False)\n",
    "print(not False)"
   ]
  },
  {
   "cell_type": "code",
   "execution_count": null,
   "metadata": {},
   "outputs": [],
   "source": [
    "\n",
    "assert (not True and True) ==\n",
    "assert (not True or True) ==\n",
    "assert not (True or True) ==\n",
    "assert not (1 == 1) ==\n"
   ]
  },
  {
   "cell_type": "markdown",
   "metadata": {},
   "source": [
    "# Identity Comparison\n",
    "\n",
    "- `is`     -- returns True if the left and right objects are literally the same object\n",
    "- `is not` -- returns True if the left and right objects are seperate objects\n",
    "\n",
    "# Membership Comparison\n",
    "\n",
    "- `in`     -- returns True if left hand is a member of right hand collection\n",
    "- `not in` -- returns True if left hand is not a member of right hand collection"
   ]
  },
  {
   "cell_type": "code",
   "execution_count": null,
   "metadata": {},
   "outputs": [],
   "source": [
    "mt_list = []"
   ]
  },
  {
   "cell_type": "code",
   "execution_count": null,
   "metadata": {},
   "outputs": [],
   "source": [
    "print(mt_list is [])\n",
    "print(mt_list is mt_list)\n",
    "print(mt_list == [])"
   ]
  },
  {
   "cell_type": "code",
   "execution_count": null,
   "metadata": {},
   "outputs": [],
   "source": [
    "print(\"bob\" in mt_list)\n",
    "print(\"fred\" not in mt_list)\n",
    "print([] in mt_list)"
   ]
  },
  {
   "cell_type": "code",
   "execution_count": null,
   "metadata": {},
   "outputs": [],
   "source": [
    "#Activity\n",
    "\n",
    "assert (type(1) == type(1.0)) ==\n",
    "assert (1 != 1.0 and 2 < 20) ==\n",
    "assert (\"bob\" < \"alfred\" or \"bob\" >= \"ronald\") ==\n",
    "assert (\"bob\" == 'bob') ==\n",
    "assert (\"rob\" not in \"robert\") =="
   ]
  },
  {
   "cell_type": "markdown",
   "metadata": {},
   "source": [
    "# Objects\n",
    "\n",
    "The type of an object is a class. Classes should be CapWords aka CamelCase.\n",
    "\n",
    "If the class is `Pet` examples of instanciated objects might be `dog` and `cat`\n",
    "\n",
    "In python <b> everything </b> is secretly an object\n",
    "\n",
    "### Methods\n",
    "\n",
    "Methods are part of the \"interface\" of the object. They are functions that directly use, affect, and make use of the information in an object but are defined by the class.\n",
    "\n",
    "If `Pet` defines a `speak()` method `dog.speak() == \"woof\"` while `cat.speak() == \"meow\"`.\n",
    "\n",
    "`dir({object})` will return all of the fields and methods of an object. Fields and methods with `__{name}__` are \"private\" and are generally not intended to be part of the interface.\n",
    "\n",
    "### - Key point -\n",
    "\n",
    "If you come from an R background, this will require a major change in thinking about how to code!\n",
    "\n",
    "In R, we do sum(x, y) to add x and y. In Python, we do x.sum(y) to add x and y. The operations you're going to want to use are often attached to objects!\n",
    "\n",
    "Most of the time, when doing things in python, you're going to be making objects and then using `object.do_the_thing()` to perform your analyses. You're going to use functions to do things much less often. If you want to see what methods an object has available, you can use `dir(object)` to see them all or type the name of the object, then a period and hit tab a few times to see what methods are available in your IDE."
   ]
  },
  {
   "cell_type": "code",
   "execution_count": null,
   "metadata": {},
   "outputs": [],
   "source": [
    "class Pet :\n",
    "    def __init__(self, sound):\n",
    "        self.sound: str = sound\n",
    "        self.color = \"clear\"\n",
    "\n",
    "    def speak(self):\n",
    "        return self.sound.upper()\n",
    "\n",
    "    def whisper(self):\n",
    "        return self.sound.lower()"
   ]
  },
  {
   "cell_type": "code",
   "execution_count": null,
   "metadata": {},
   "outputs": [],
   "source": [
    "dog = Pet(\"Woof\")\n",
    "cat = Pet(\"Meow\")"
   ]
  },
  {
   "cell_type": "code",
   "execution_count": null,
   "metadata": {},
   "outputs": [],
   "source": [
    "dir(dog)"
   ]
  },
  {
   "cell_type": "code",
   "execution_count": null,
   "metadata": {},
   "outputs": [],
   "source": [
    "print(\"dogs say\", dog.speak())\n",
    "print(\"cats say\", cat.speak())"
   ]
  },
  {
   "cell_type": "code",
   "execution_count": null,
   "metadata": {},
   "outputs": [],
   "source": [
    "print(\"cats whisper\", cat.whisper())"
   ]
  },
  {
   "cell_type": "code",
   "execution_count": null,
   "metadata": {},
   "outputs": [],
   "source": [
    "print(dog.color)\n",
    "print(cat.color)"
   ]
  },
  {
   "cell_type": "code",
   "execution_count": null,
   "metadata": {},
   "outputs": [],
   "source": [
    "dog.color = \"black\"\n",
    "cat.color = 12\n",
    "\n",
    "print(dog.color)\n",
    "print(cat.color)"
   ]
  },
  {
   "cell_type": "code",
   "execution_count": null,
   "metadata": {},
   "outputs": [],
   "source": [
    "print(type(dog), type(cat))"
   ]
  },
  {
   "cell_type": "code",
   "execution_count": null,
   "metadata": {},
   "outputs": [],
   "source": [
    "list_type = type(mt_list)\n",
    "list_length = len(mt_list)\n",
    "print(f\"Our list has type: {list_type} and has a lenght of {list_length}\")"
   ]
  },
  {
   "cell_type": "code",
   "execution_count": null,
   "metadata": {},
   "outputs": [],
   "source": [
    "dir(mt_list)"
   ]
  },
  {
   "cell_type": "code",
   "execution_count": null,
   "metadata": {},
   "outputs": [],
   "source": [
    "?list.append"
   ]
  },
  {
   "cell_type": "code",
   "execution_count": null,
   "metadata": {},
   "outputs": [],
   "source": [
    "?list.extend"
   ]
  },
  {
   "cell_type": "code",
   "execution_count": null,
   "metadata": {},
   "outputs": [],
   "source": [
    "new_list = [\"bob\", 42]\n",
    "mt_list.append(my_float)\n",
    "print(f\"The new list is: {new_list}\", \"\\n\", f\"mt_list is: {mt_list}\")"
   ]
  },
  {
   "cell_type": "code",
   "execution_count": null,
   "metadata": {},
   "outputs": [],
   "source": [
    "print(len(new_list), \"\\n\", len(mt_list))"
   ]
  },
  {
   "cell_type": "code",
   "execution_count": null,
   "metadata": {},
   "outputs": [],
   "source": [
    "mt_list.extend(new_list)\n"
   ]
  },
  {
   "cell_type": "code",
   "execution_count": null,
   "metadata": {},
   "outputs": [],
   "source": [
    "print(f\"The contents of mt_list are: {mt_list}, with length: {len(mt_list)}\")"
   ]
  },
  {
   "cell_type": "code",
   "execution_count": null,
   "metadata": {},
   "outputs": [],
   "source": [
    "first_item = mt_list[0]\n",
    "third_item = mt_list[2]\n",
    "last_item = mt_list[-1]\n",
    "third_from_last = mt_list[-3]\n",
    "\n",
    "print(first_item, third_item, last_item, third_from_last, sep= \"\\n\")"
   ]
  },
  {
   "cell_type": "code",
   "execution_count": null,
   "metadata": {},
   "outputs": [],
   "source": [
    "fourth_item = mt_list[3]"
   ]
  },
  {
   "cell_type": "code",
   "execution_count": null,
   "metadata": {},
   "outputs": [],
   "source": [
    "mt_list[2] = 25\n",
    "print(mt_list)"
   ]
  },
  {
   "cell_type": "code",
   "execution_count": null,
   "metadata": {},
   "outputs": [],
   "source": [
    "mt_list = [75.3, \"bob\", 42]"
   ]
  },
  {
   "cell_type": "code",
   "execution_count": null,
   "metadata": {},
   "outputs": [],
   "source": [
    "assert mt_list[1] ==\n",
    "\n",
    "#using one command make it so that mt_list has a length of 6\n",
    "\n",
    "assert len(mt_list) == 6\n"
   ]
  },
  {
   "cell_type": "code",
   "execution_count": null,
   "metadata": {},
   "outputs": [],
   "source": [
    "print(mt_list)"
   ]
  },
  {
   "cell_type": "code",
   "execution_count": null,
   "metadata": {},
   "outputs": [],
   "source": [
    "?list.pop"
   ]
  },
  {
   "cell_type": "code",
   "execution_count": null,
   "metadata": {},
   "outputs": [],
   "source": [
    "last_val = mt_list.pop()\n",
    "print(last_val, \"\\n\", mt_list)"
   ]
  },
  {
   "cell_type": "code",
   "execution_count": null,
   "metadata": {},
   "outputs": [],
   "source": [
    "days = [\n",
    "    \"Mon\",\n",
    "    \"Tues\",\n",
    "    \"Wed\",\n",
    "    \"Thurs\",\n",
    "    \"Fri\",\n",
    "    \"Sat\",\n",
    "    \"Sun\"\n",
    "]"
   ]
  },
  {
   "cell_type": "code",
   "execution_count": null,
   "metadata": {},
   "outputs": [],
   "source": [
    "days_that_end_in_day = days[:]\n",
    "weekdays = days[:-2]\n",
    "weekend = days[5:]\n",
    "\n",
    "print(days_that_end_in_day, weekdays, weekend, sep= \"\\n\")"
   ]
  },
  {
   "cell_type": "code",
   "execution_count": null,
   "metadata": {},
   "outputs": [],
   "source": [
    "list_of_lists = [mt_list, days]\n",
    "print(list_of_lists)"
   ]
  },
  {
   "cell_type": "code",
   "execution_count": null,
   "metadata": {},
   "outputs": [],
   "source": [
    "print(list_of_lists[0][1])"
   ]
  },
  {
   "cell_type": "markdown",
   "metadata": {},
   "source": [
    "### Multiple assignment\n",
    "\n",
    "Save the values of a collection as seperate variables.\n",
    "- new variable names must be comma seperated\n",
    "- you must have a name for EVERY value in the collection\n",
    "- `_` is used to capture values that you aren't trying to keep"
   ]
  },
  {
   "cell_type": "code",
   "execution_count": null,
   "metadata": {},
   "outputs": [],
   "source": [
    "first_list, second_list = list_of_lists\n",
    "\n",
    "print(f\"First list is: {first_list}\")\n",
    "print(f\"Second list is: {second_list}\")"
   ]
  },
  {
   "cell_type": "markdown",
   "metadata": {},
   "source": [
    "# Other collections"
   ]
  },
  {
   "cell_type": "code",
   "execution_count": null,
   "metadata": {},
   "outputs": [],
   "source": [
    "a_tuple = (\"Bob\", 24, 37.0)\n",
    "a_dict = {\"name\": \"Bob\", \"age\": 24, \"weight\": 37.0}\n",
    "\n",
    "print(a_tuple[0])\n",
    "print(a_dict[\"name\"])"
   ]
  },
  {
   "cell_type": "code",
   "execution_count": null,
   "metadata": {},
   "outputs": [],
   "source": [
    "?tuple"
   ]
  },
  {
   "cell_type": "code",
   "execution_count": null,
   "metadata": {},
   "outputs": [],
   "source": [
    "a_tuple[0] = \"fred\""
   ]
  },
  {
   "cell_type": "code",
   "execution_count": null,
   "metadata": {},
   "outputs": [],
   "source": [
    "?dict"
   ]
  },
  {
   "cell_type": "code",
   "execution_count": null,
   "metadata": {},
   "outputs": [],
   "source": [
    "a_dict[\"home\"] = \"Wilmington\"\n",
    "a_dict[\"name\"] = \"Fred\""
   ]
  },
  {
   "cell_type": "code",
   "execution_count": null,
   "metadata": {},
   "outputs": [],
   "source": [
    "print(a_dict)"
   ]
  },
  {
   "cell_type": "markdown",
   "metadata": {},
   "source": [
    "# Looping\n",
    "\n",
    "Looping lets you do the same thing multiple times without copying and pasting a bunch of code.\n",
    "\n",
    "There are multiple types of loops in python.\n",
    "\n",
    "## - Key point -\n",
    "\n",
    "In python, we use indentation to indicate what code is inside of a loop. This is different from R, where we use curly braces to indicate what code is inside of a loop.\n",
    "\n",
    "This means that tabs are really important in python, so be careful!\n",
    "\n",
    "## for loops\n",
    "\n",
    "Take a collection of things, assign each thing to a variable, and then do something with that variable. Each iteration of the loop, the value in the variable changes.\n",
    "\n",
    "```\n",
    "for {value} in {iterable}:\n",
    "    do things with value\n",
    "```\n"
   ]
  },
  {
   "cell_type": "code",
   "execution_count": null,
   "metadata": {},
   "outputs": [],
   "source": [
    "?range"
   ]
  },
  {
   "cell_type": "code",
   "execution_count": null,
   "metadata": {},
   "outputs": [],
   "source": [
    "for i in range(5):\n",
    "    print(i)\n"
   ]
  },
  {
   "cell_type": "code",
   "execution_count": null,
   "metadata": {},
   "outputs": [],
   "source": [
    "odds = range(1, 10, 2)\n",
    "for i in odds:\n",
    "    print(i)"
   ]
  },
  {
   "cell_type": "markdown",
   "metadata": {},
   "source": [
    "### `{value}` is a copy, not the actual object "
   ]
  },
  {
   "cell_type": "code",
   "execution_count": null,
   "metadata": {},
   "outputs": [],
   "source": [
    "for day in days:\n",
    "    day += \"day\"\n",
    "    print(day)\n",
    "\n",
    "print(days)"
   ]
  },
  {
   "cell_type": "code",
   "execution_count": null,
   "metadata": {},
   "outputs": [],
   "source": [
    "for i in range(len(days)):\n",
    "    days[i] += \"day\"\n",
    "    print(days[i])\n",
    "\n",
    "print(days)"
   ]
  },
  {
   "cell_type": "code",
   "execution_count": null,
   "metadata": {},
   "outputs": [],
   "source": [
    "days = [\n",
    "    \"Mon\",\n",
    "    \"Tues\",\n",
    "    \"Wed\",\n",
    "    \"Thurs\",\n",
    "    \"Fri\",\n",
    "    \"Sat\",\n",
    "    \"Sun\"\n",
    "]"
   ]
  },
  {
   "cell_type": "markdown",
   "metadata": {},
   "source": [
    "# Important\n",
    "### List comprehension\n",
    "\n",
    "shorthand `for` looping to make new collections based of other collections\n",
    "\n",
    "You put it all in square brackets and follow this syntax:\n",
    "\n",
    "`[ {thing to do with {variable}} for {variable} in {bunch O stuff} ]`"
   ]
  },
  {
   "cell_type": "code",
   "execution_count": null,
   "metadata": {},
   "outputs": [],
   "source": [
    "new_days = [ day + \"day\" for day in days ]\n",
    "print(new_days)"
   ]
  },
  {
   "cell_type": "markdown",
   "metadata": {},
   "source": [
    "## while loops\n",
    "\n",
    "For loops do something a certain number of times. We use these when we know how many times we want to do something since we know how many things are in the collection.\n",
    "\n",
    "When we want to do something an indeterminate number of times, we use a while loop.\n",
    "\n",
    "A while loop will continue to run until a condition is met.\n",
    "\n",
    "The format for a while loop is:\n",
    "\n",
    "while {condition}:\n",
    "    do things\n",
    "\n",
    "The {condition} needs to evaluate to a boolean value (True or False). If it evaluates to True, the loop will run. If it evaluates to False, the loop will stop.\n",
    "\n",
    "### - Key point -\n",
    "\n",
    "While loops can be dangerous! If the condition you're testing can never evaluate to False, the loop will run until the heat death of the universe. This is called an infinite loop. If you accidentally create an infinite loop, you can stop it by pressing the stop button in your IDE or ctrl+c in your terminal."
   ]
  },
  {
   "cell_type": "code",
   "execution_count": null,
   "metadata": {},
   "outputs": [],
   "source": [
    "max_number = 10\n",
    "\n",
    "current_number = 0\n",
    "\n",
    "while(current_number < max_number):\n",
    "    print(current_number)\n",
    "    current_number += 1"
   ]
  },
  {
   "cell_type": "markdown",
   "metadata": {},
   "source": [
    "# Conditionals #\n",
    "\n",
    "``` \n",
    "if {True}:                                      \n",
    "    do stuff                                     \n",
    "elif {True}:                                     \n",
    "    do other stuff                               \n",
    "else:                                            \n",
    "    do stuff if both earlier statments are false \n",
    "    \n",
    "```"
   ]
  },
  {
   "cell_type": "code",
   "execution_count": null,
   "metadata": {},
   "outputs": [],
   "source": [
    "for day in days:\n",
    "    if day == \"Wed\":\n",
    "        day = \"Wednesday\"\n",
    "    elif day == \"Sat\":\n",
    "        day = \"Saturday\"\n",
    "    else:\n",
    "        day += \"day\"\n",
    "\n",
    "    print(day)\n",
    "\n",
    "print(days)"
   ]
  },
  {
   "cell_type": "code",
   "execution_count": null,
   "metadata": {},
   "outputs": [],
   "source": [
    "short_days = [ day[:2] if day in [\"Tues\", \"Thurs\", \"Sat\", \"Sun\"] else day[0] for day in days ]\n",
    "print(short_days)"
   ]
  },
  {
   "cell_type": "code",
   "execution_count": null,
   "metadata": {},
   "outputs": [],
   "source": [
    "?zip"
   ]
  },
  {
   "cell_type": "code",
   "execution_count": null,
   "metadata": {},
   "outputs": [],
   "source": [
    "menu = dict(zip(short_days, [\n",
    "    \" white \",\n",
    "    \" buffalo_chicken \",\n",
    "    \" pepperoni \",\n",
    "    \" cheeze(tm) \",\n",
    "    \" pinapple \",\n",
    "    \" supreme \",\n",
    "    \" chipotle_chicken \"\n",
    "    ]))\n",
    "\n",
    "print(menu)"
   ]
  },
  {
   "cell_type": "code",
   "execution_count": null,
   "metadata": {},
   "outputs": [],
   "source": [
    "#replace underscores with spaces\n",
    "#strip extra whitespace\n",
    "#use real cheese\n",
    "#replace pinapple (yuck) pizza with another kind of pizza\n",
    "#use title case for the names of the pizzas\n",
    "#print the full name of the day of the week and the pizza that will be served on that day\n",
    "\n",
    "\n"
   ]
  },
  {
   "cell_type": "code",
   "execution_count": null,
   "metadata": {},
   "outputs": [],
   "source": []
  }
 ],
 "metadata": {
  "kernelspec": {
   "display_name": "Python 3.10.9 ('base')",
   "language": "python",
   "name": "python3"
  },
  "language_info": {
   "codemirror_mode": {
    "name": "ipython",
    "version": 3
   },
   "file_extension": ".py",
   "mimetype": "text/x-python",
   "name": "python",
   "nbconvert_exporter": "python",
   "pygments_lexer": "ipython3",
   "version": "3.11.4"
  },
  "orig_nbformat": 4,
  "vscode": {
   "interpreter": {
    "hash": "1bc58cb120898ad3dccd294d57a95821883a34aa1c706ace19e7c5127c7e52b8"
   }
  }
 },
 "nbformat": 4,
 "nbformat_minor": 2
}
